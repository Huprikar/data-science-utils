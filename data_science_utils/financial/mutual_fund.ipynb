{
 "cells": [
  {
   "cell_type": "markdown",
   "metadata": {
    "heading_collapsed": true
   },
   "source": [
    "### Imports"
   ]
  },
  {
   "cell_type": "code",
   "execution_count": 1,
   "metadata": {
    "ExecuteTime": {
     "end_time": "2018-07-24T10:15:30.865831Z",
     "start_time": "2018-07-24T10:15:30.652702Z"
    },
    "hidden": true
   },
   "outputs": [],
   "source": [
    "import numpy as np # linear algebra\n",
    "import pandas as pd # data processing, CSV file I/O (e.g. pd.read_csv)\n",
    "\n",
    "\n",
    "from IPython.core.interactiveshell import InteractiveShell\n",
    "\n",
    "InteractiveShell.ast_node_interactivity = \"all\"\n",
    "pd.set_option('display.max_seq_items', None)\n",
    "pd.set_option('display.height', 1000)\n",
    "pd.set_option('display.max_rows', 500)\n",
    "pd.set_option('display.max_columns', 500)\n",
    "pd.set_option('display.width', 1000)\n"
   ]
  },
  {
   "cell_type": "code",
   "execution_count": 224,
   "metadata": {
    "ExecuteTime": {
     "end_time": "2018-07-25T08:18:50.058825Z",
     "start_time": "2018-07-25T08:18:50.055629Z"
    },
    "hidden": true
   },
   "outputs": [],
   "source": [
    "np.set_printoptions(threshold=np.nan)\n",
    "\n",
    "import warnings\n",
    "import traceback\n",
    "\n",
    "warnings.filterwarnings('ignore')\n",
    "import argparse\n",
    "import re\n",
    "import sys, os\n",
    "\n",
    "sys.path.append(os.getcwd())\n",
    "\n",
    "import os\n",
    "import requests\n",
    "from requests.exceptions import ConnectionError\n",
    "\n",
    "import bs4\n",
    "from bs4 import BeautifulSoup\n",
    "from fastnumbers import isfloat\n",
    "from fastnumbers import fast_float\n",
    "from multiprocessing.dummy import Pool as ThreadPool \n",
    "import more_itertools\n",
    "from random import shuffle\n",
    "\n",
    "\n",
    "\n"
   ]
  },
  {
   "cell_type": "markdown",
   "metadata": {},
   "source": [
    "### Libs"
   ]
  },
  {
   "cell_type": "code",
   "execution_count": 3,
   "metadata": {
    "ExecuteTime": {
     "end_time": "2018-07-24T10:15:31.835315Z",
     "start_time": "2018-07-24T10:15:31.832076Z"
    }
   },
   "outputs": [],
   "source": [
    "def get_ci(p,t,r):\n",
    "    return np.abs(np.fv(r/100,t,0,p))\n",
    "\n",
    "def get_cumulative_amounts(p,t,r):\n",
    "    psum = p\n",
    "    for i in range(1,t):\n",
    "        psum = psum + get_ci(p,i,r)\n",
    "    return psum\n",
    "\n",
    "def get_year_when_cumulative_profit_over_pe(pe,cpg):\n",
    "    if np.isnan(pe):\n",
    "        return np.inf\n",
    "    for i in range(1,int(np.ceil(pe))):\n",
    "        if get_cumulative_amounts(1,i,cpg)>=pe:\n",
    "            return i\n",
    "    return int(np.ceil(pe))        "
   ]
  },
  {
   "cell_type": "code",
   "execution_count": 296,
   "metadata": {
    "ExecuteTime": {
     "end_time": "2018-07-25T11:25:09.179305Z",
     "start_time": "2018-07-25T11:25:09.171996Z"
    }
   },
   "outputs": [],
   "source": [
    "def is_dataframe(df):\n",
    "    if df is not None and type(df)==pd.core.frame.DataFrame:\n",
    "        return True\n",
    "    return False\n",
    "\n",
    "def ffloat(string):\n",
    "    if string is None:\n",
    "        return np.nan\n",
    "    if type(string)==float or type(string)==int or type(string)==np.int64 or type(string)==np.float64:\n",
    "        return string\n",
    "    return fast_float(string.split(\" \")[0].replace(',','').replace('%',''),default=np.nan)\n",
    "\n",
    "def ffloat_list(string_list):\n",
    "    return list(map(ffloat,string_list))\n",
    "\n",
    "\n",
    "def get_children(html_content):\n",
    "    return [item for item in html_content.children if type(item)==bs4.element.Tag]\n",
    "\n",
    "def get_portfolio(mfid):\n",
    "    url = \"https://www.moneycontrol.com/india/mutualfunds/mfinfo/portfolio_holdings/\"+mfid\n",
    "    page_response = requests.get(url, timeout=10)\n",
    "    page_content = BeautifulSoup(page_response.content, \"html.parser\")\n",
    "    portfolio_table = page_content.find('table', attrs={'class': 'tblporhd'})\n",
    "    fund_name = page_content.find('h1').text\n",
    "    return portfolio_table,fund_name\n",
    "\n",
    "def get_table(portfolio_table):\n",
    "    portfolio_elems = get_children(portfolio_table)\n",
    "\n",
    "    table_data = list()\n",
    "    for row in portfolio_elems:\n",
    "        row_data = list()\n",
    "        row_elems = get_children(row)\n",
    "        for elem in row_elems:\n",
    "            text = elem.text.strip().replace(\"\\n\",\"\")\n",
    "            if len(text)==0:\n",
    "                continue\n",
    "            elem_descriptor = {'text':text}\n",
    "            elem_children = get_children(elem)\n",
    "            if len(elem_children)>0:\n",
    "                if elem_children[0].has_attr('href'):\n",
    "                    elem_href = elem_children[0]['href']\n",
    "                    elem_descriptor['href'] = elem_href\n",
    "\n",
    "            row_data.append(elem_descriptor)\n",
    "        table_data.append(row_data)\n",
    "    return table_data\n",
    "\n",
    "def get_table_simple(portfolio_table,is_table_tag=True):\n",
    "    portfolio_elems = portfolio_table.find_all('tr')\n",
    "    table_data = list()\n",
    "    for row in portfolio_elems:\n",
    "        row_data = list()\n",
    "        row_elems = get_children(row)\n",
    "        for elem in row_elems:\n",
    "            text = elem.text.strip().replace(\"\\n\",\"\")\n",
    "            if len(text)==0:\n",
    "                continue\n",
    "            row_data.append(text)\n",
    "        table_data.append(row_data)\n",
    "    return table_data"
   ]
  },
  {
   "cell_type": "code",
   "execution_count": 5,
   "metadata": {
    "ExecuteTime": {
     "end_time": "2018-07-24T10:15:32.427756Z",
     "start_time": "2018-07-24T10:15:32.421822Z"
    }
   },
   "outputs": [],
   "source": [
    "def get_min_and_three_year_from_screener(table):\n",
    "    min_value = np.inf\n",
    "    three_year_value = np.inf\n",
    "    for row in table:\n",
    "        if len(row)==2:\n",
    "            if row[0]=='3 Years:':\n",
    "                three_year_value = ffloat(row[1].replace('%',''))\n",
    "            cur_value = ffloat(row[1].replace('%',''))\n",
    "            min_value = min(min_value,cur_value)\n",
    "    return min_value,three_year_value\n",
    "\n",
    "def get_quarterly_results(quarterly_results_table):\n",
    "    qrt = get_table_simple(quarterly_results_table)\n",
    "    qres = {}\n",
    "    qres['dates'] = qrt[0]\n",
    "    qres['sales'] = ffloat_list(qrt[1][1:])\n",
    "    qres['operating_profit'] = ffloat_list(qrt[3][1:])\n",
    "    qres['opm_percent'] = ffloat_list(qrt[4][1:])\n",
    "    qres['interest'] = ffloat_list(qrt[7][1:])\n",
    "    qres['pbt'] = ffloat_list(qrt[8][1:])\n",
    "    return qres\n",
    "\n",
    "def get_annual_results(annual_results):\n",
    "    qrt = get_table_simple(annual_results)\n",
    "    qres = {}\n",
    "    qres['dates'] = qrt[0]\n",
    "    qres['sales'] = ffloat_list(qrt[1][1:])\n",
    "    qres['operating_profit'] = ffloat_list(qrt[3][1:])\n",
    "    qres['opm_percent'] = ffloat_list(qrt[4][1:])\n",
    "    qres['interest'] = ffloat_list(qrt[6][1:])\n",
    "    qres['pbt'] = ffloat_list(qrt[8][1:])\n",
    "    qres['eps'] = ffloat_list(qrt[11][1:])\n",
    "    return qres\n",
    "\n",
    "def get_balance_sheet(balance_sheet):\n",
    "    qrt = get_table_simple(balance_sheet)\n",
    "    qres = {}\n",
    "    qres['dates'] = qrt[0]\n",
    "    qres['borrowings'] = ffloat_list(qrt[3][1:])\n",
    "    qres['fixed_assets'] = ffloat_list(qrt[6][1:])\n",
    "    qres['total_assets'] = ffloat_list(qrt[10][1:])\n",
    "    return qres\n",
    "\n",
    "def get_cash_flows(cash_flows):\n",
    "    qrt = get_table_simple(cash_flows)\n",
    "    qres = {}\n",
    "    qres['dates'] = qrt[0]\n",
    "    qres['net_cash_flow'] = ffloat_list(qrt[4][1:])\n",
    "    return qres"
   ]
  },
  {
   "cell_type": "code",
   "execution_count": 165,
   "metadata": {
    "ExecuteTime": {
     "end_time": "2018-07-24T21:06:28.123011Z",
     "start_time": "2018-07-24T21:06:28.114894Z"
    }
   },
   "outputs": [],
   "source": [
    "\n",
    "\n",
    "def get_past_prices(sc_id):\n",
    "    bse_url = \"https://www.moneycontrol.com/tech_charts/bse/his/%s.csv\"%sc_id\n",
    "    nse_url = \"https://www.moneycontrol.com/tech_charts/nse/his/%s.csv\"%sc_id\n",
    "    \n",
    "    past_prices_nse = pd.read_csv(nse_url,header=None,names=['open','high','low','close','volume',1,2,3,4])[['open','high','low','close','volume']]\n",
    "    past_prices_nse.index = pd.to_datetime(past_prices_nse.index)\n",
    "    \n",
    "    past_prices_bse = pd.read_csv(bse_url,header=None,names=['open','high','low','close','volume',1,2,3,4])[['open','high','low','close','volume']]\n",
    "    past_prices_bse.index = pd.to_datetime(past_prices_bse.index)\n",
    "    \n",
    "    ly = None\n",
    "    two_year_ago = None\n",
    "    three_year_ago = None\n",
    "    five_year_ago = None\n",
    "    past_prices = past_prices_bse\n",
    "    for i in range(12):\n",
    "        try:\n",
    "            if ly is None:\n",
    "                ly_t = pd.to_datetime(past_prices.iloc[-1:].index.values[0] - pd.to_timedelta(364+i, unit='d'))\n",
    "                ly = past_prices.loc[[ly_t]]\n",
    "            if two_year_ago is None:\n",
    "                two_year_ago_t = pd.to_datetime(past_prices.iloc[-1:].index.values[0] - pd.to_timedelta(730+i, unit='d'))\n",
    "                two_year_ago = past_prices.loc[[two_year_ago_t]]\n",
    "            if three_year_ago is None:\n",
    "                three_year_ago_t = pd.to_datetime(past_prices.iloc[-1:].index.values[0] - pd.to_timedelta(1095+i, unit='d'))\n",
    "                three_year_ago = past_prices.loc[[three_year_ago_t]]\n",
    "            if five_year_ago is None:\n",
    "                five_year_ago_t = pd.to_datetime(past_prices.iloc[-1:].index.values[0] - pd.to_timedelta(1825+i, unit='d'))\n",
    "                five_year_ago = past_prices.loc[[five_year_ago_t]]\n",
    "        except Exception as e:\n",
    "            pass\n",
    "       \n",
    "    past_prices = past_prices_nse\n",
    "    for i in range(12):\n",
    "        try:\n",
    "            if ly is None:\n",
    "                ly_t = pd.to_datetime(past_prices.iloc[-1:].index.values[0] - pd.to_timedelta(364+i, unit='d'))\n",
    "                ly = past_prices.loc[[ly_t]]\n",
    "            if two_year_ago is None:\n",
    "                two_year_ago_t = pd.to_datetime(past_prices.iloc[-1:].index.values[0] - pd.to_timedelta(730+i, unit='d'))\n",
    "                two_year_ago = past_prices.loc[[two_year_ago_t]]\n",
    "            if three_year_ago is None:\n",
    "                three_year_ago_t = pd.to_datetime(past_prices.iloc[-1:].index.values[0] - pd.to_timedelta(1095+i, unit='d'))\n",
    "                three_year_ago = past_prices.loc[[three_year_ago_t]]\n",
    "            if five_year_ago is None:\n",
    "                five_year_ago_t = pd.to_datetime(past_prices.iloc[-1:].index.values[0] - pd.to_timedelta(1825+i, unit='d'))\n",
    "                five_year_ago = past_prices.loc[[five_year_ago_t]]\n",
    "        except Exception as e:\n",
    "            pass\n",
    "    \n",
    "    if len(past_prices_nse)>=len(past_prices_bse):\n",
    "        past_prices = past_prices_nse\n",
    "    else:\n",
    "        past_prices = past_prices_bse\n",
    "    res = {\"all_past_prices\":past_prices,\"last_year\":ly,\"two_year_ago\":two_year_ago,\n",
    "            \"three_year_ago\":three_year_ago,\"five_year_ago\":five_year_ago}\n",
    "    return res"
   ]
  },
  {
   "cell_type": "markdown",
   "metadata": {
    "collapsed": true
   },
   "source": [
    "### Lib 2"
   ]
  },
  {
   "cell_type": "code",
   "execution_count": 232,
   "metadata": {
    "ExecuteTime": {
     "end_time": "2018-07-25T08:36:12.609504Z",
     "start_time": "2018-07-25T08:36:12.588306Z"
    },
    "code_folding": []
   },
   "outputs": [],
   "source": [
    "\n",
    "def get_scrip_info(url):\n",
    "    original_url = url\n",
    "    key_val_pairs = {}\n",
    "    key_val_pairs[\"original_url\"] = original_url\n",
    "    if not url.startswith(\"http\"):\n",
    "        url = \"https://www.moneycontrol.com\"+url\n",
    "    try:\n",
    "        page_response = requests.get(url, timeout=10)\n",
    "        page_content = BeautifulSoup(page_response.content, \"html.parser\")\n",
    "        scrip_name = None\n",
    "        name_divs = page_content.find_all('div',attrs={'class':'gry10'})\n",
    "        for nd in name_divs:\n",
    "            texts = list(map(lambda x:x.strip(),nd.text.split(\" \")))\n",
    "            if \"NSE:\" in texts:\n",
    "                scrip_name = texts[texts.index(\"NSE:\")+1]\n",
    "                scrip_name = re.sub('[^0-9a-zA-Z&\\-]+', '', scrip_name)\n",
    "        if scrip_name is None or len(scrip_name.strip())==0 or \"ETF\" in scrip_name:\n",
    "            key_val_pairs['failure'] = True\n",
    "            key_val_pairs['err'] = \"%s is not named on NSE\"%url\n",
    "            print(key_val_pairs['err'])\n",
    "            return key_val_pairs\n",
    "        \n",
    "        content_div_text = page_content.find('div',attrs={'id':'content_full'}).text\n",
    "        if \"not listed\" in content_div_text or \"not traded\" in content_div_text:\n",
    "            key_val_pairs['failure'] = True\n",
    "            key_val_pairs['err'] = \"%s is not listed on both BSE and NSE\"%url\n",
    "            print(key_val_pairs['err'])\n",
    "            return key_val_pairs\n",
    "        price = ffloat(page_content.find('div',attrs={'id':'Nse_Prc_tick_div'}).text.split(\" \")[0].replace(',',''))\n",
    "        name = page_content.find('h1',attrs={'class':'company_name'}).text\n",
    "        \n",
    "        screener_url = \"https://www.screener.in/company/%s/\"%scrip_name\n",
    "        screener_page_response = requests.get(screener_url, timeout=10)\n",
    "        \n",
    "        if screener_page_response.status_code>299:\n",
    "            key_val_pairs['failure'] = True\n",
    "            key_val_pairs['err'] = \"No Screener URL: %s\"%screener_url\n",
    "            print(key_val_pairs['err'])\n",
    "            return key_val_pairs\n",
    "        screener_page_content = BeautifulSoup(screener_page_response.content, \"html.parser\")\n",
    "        screener_name = get_children(get_children(screener_page_content.find('nav',attrs={'id':'fixed-scroll-aid-bar'}))[0])[0].text.strip()\n",
    "\n",
    "        sector = get_children(screener_page_content.find('h1'))[0].text.replace(\"/\",'').strip()\n",
    "        yearly_high = page_content.find('span',attrs={'id':'n_52high'}).text.strip()\n",
    "        yearly_low = page_content.find('span',attrs={'id':'n_52low'}).text.strip()\n",
    "        html_data_content = page_content.find('div', attrs={'id': 'mktdet_1'})\n",
    "        petable = get_table(get_children(html_data_content)[0])\n",
    "        pbtable = get_table(get_children(html_data_content)[1])\n",
    "        \n",
    "        \n",
    "        dma_table = get_table_simple(page_content.find('div',attrs={'id':'acc_hd2'}).find_all('table')[2])\n",
    "        \n",
    "        thirty_dma = None\n",
    "        fifty_dma = None\n",
    "        one_fifty_dma = None\n",
    "        two_hundred_dma = None\n",
    "        if len(dma_table[1])==0:\n",
    "            thirty_dma = dma_table[1][1]\n",
    "        if len(dma_table[2])==0:\n",
    "            fifty_dma = dma_table[2][1]\n",
    "        if len(dma_table[3])==0:\n",
    "            one_fifty_dma = dma_table[3][1]\n",
    "        if len(dma_table[4])==0:\n",
    "            two_hundred_dma = dma_table[4][1]\n",
    "        \n",
    "        \n",
    "        \n",
    "        \n",
    "        \n",
    "        volume = ffloat(page_content.find('span',attrs={'id':'nse_volume'}).text)\n",
    "        \n",
    "        sc_id = page_content.find('input',attrs={'id':'sc_id'}).get('value').lower()\n",
    "        \n",
    "        past_prices = get_past_prices(sc_id)\n",
    "        \n",
    "        l_yp = None\n",
    "        two_yp = None\n",
    "        three_yp = None\n",
    "        five_yp = None\n",
    "        gain_loss_l_yp = None\n",
    "        gain_loss_two_yp = None\n",
    "        gain_loss_three_yp = None\n",
    "        gain_loss_five_yp = None\n",
    "        \n",
    "        if is_dataframe(past_prices['last_year']):\n",
    "            l_yp = past_prices['last_year']['close'].values[0]\n",
    "            gain_loss_l_yp = (price - l_yp)*100/l_yp\n",
    "        if is_dataframe(past_prices['two_year_ago']):    \n",
    "            two_yp = past_prices['two_year_ago']['close'].values[0]\n",
    "            gain_loss_two_yp = (price - two_yp)*100/two_yp\n",
    "        if is_dataframe(past_prices['three_year_ago']):\n",
    "            three_yp = past_prices['three_year_ago']['close'].values[0]\n",
    "            gain_loss_three_yp = (price - three_yp)*100/three_yp\n",
    "        if is_dataframe(past_prices['five_year_ago']):\n",
    "            five_yp = past_prices['five_year_ago']['close'].values[0]\n",
    "            gain_loss_five_yp = (price - five_yp)*100/five_yp\n",
    "        \n",
    "        \n",
    "        \n",
    "        \n",
    "        \n",
    "        quarterly_results = get_quarterly_results(screener_page_content.find('section',attrs={'id':'quarters'}).find('table'))\n",
    "        \n",
    "        annual_results_table = screener_page_content.find('section',attrs={'id':'profit-loss'}).find('table',attrs={'class':'data-table'})\n",
    "        annual_results = None\n",
    "        if annual_results_table is not None:\n",
    "            annual_results = get_annual_results(annual_results_table)\n",
    "        \n",
    "        csg_table = get_table_simple(screener_page_content.find('section',attrs={'id':'profit-loss'}).find_all('table',attrs={'class':'ranges-table'})[0])\n",
    "        min_csg,three_year_csg = get_min_and_three_year_from_screener(csg_table)\n",
    "        cpg_table = get_table_simple(screener_page_content.find('section',attrs={'id':'profit-loss'}).find_all('table',attrs={'class':'ranges-table'})[1])\n",
    "        min_cpg,three_year_cpg = get_min_and_three_year_from_screener(cpg_table)\n",
    "        roe_table = get_table_simple(screener_page_content.find('section',attrs={'id':'profit-loss'}).find_all('table',attrs={'class':'ranges-table'})[2])\n",
    "        min_roe,three_year_roe = get_min_and_three_year_from_screener(roe_table)\n",
    "        \n",
    "        balance_sheet = get_balance_sheet(screener_page_content.find('section',attrs={'id':'balance-sheet'}).find('table'))\n",
    "        cash_flows = get_cash_flows(screener_page_content.find('section',attrs={'id':'cash-flow'}).find('table'))\n",
    "\n",
    "        data_table = list()\n",
    "        data_table.extend(petable)\n",
    "        data_table.extend(pbtable)\n",
    "\n",
    "        consolidated_html_data_content = page_content.find('div', attrs={'id': 'mktdet_2'})\n",
    "        consolidated_petable = get_table(get_children(consolidated_html_data_content)[0])\n",
    "        consolidated_pbtable = get_table(get_children(consolidated_html_data_content)[1])\n",
    "        consolidated_data_table = list()\n",
    "        consolidated_data_table.extend(consolidated_petable)\n",
    "        consolidated_data_table.extend(consolidated_pbtable)\n",
    "\n",
    "        \n",
    "\n",
    "        for row in consolidated_data_table:\n",
    "\n",
    "            k = row[0]['text']\n",
    "            if len(row)<2:\n",
    "                v=None\n",
    "            else:\n",
    "                v = row[1]['text'].split(\" \")[0].replace(',','')\n",
    "            key_val_pairs[k]=v\n",
    "\n",
    "        for row in data_table:\n",
    "\n",
    "            k = row[0]['text']\n",
    "            if len(row)<2:\n",
    "                v=None\n",
    "            else:\n",
    "                v = row[1]['text'].split(\" \")[0].replace(',','')\n",
    "\n",
    "            if k not in key_val_pairs or not isfloat(key_val_pairs[k]):\n",
    "                key_val_pairs[k]=v\n",
    "\n",
    "        key_val_pairs[\"pe\"] = ffloat(key_val_pairs.pop('P/E'))\n",
    "        key_val_pairs[\"book_value\"] = ffloat(key_val_pairs.pop('BOOK VALUE (Rs)'))\n",
    "        key_val_pairs[\"deliverables\"] = ffloat(key_val_pairs.pop('DELIVERABLES (%)'))\n",
    "        key_val_pairs[\"eps\"] = ffloat(key_val_pairs.pop('EPS (TTM)'))\n",
    "        key_val_pairs[\"industry_pe\"] = ffloat(key_val_pairs.pop('INDUSTRY P/E'))\n",
    "        if 'MARKET CAP (Rs Cr)' in key_val_pairs:\n",
    "            key_val_pairs[\"market_cap\"] = key_val_pairs.pop('MARKET CAP (Rs Cr)')\n",
    "        elif '**MARKET CAP (Rs Cr)' in key_val_pairs:\n",
    "            key_val_pairs[\"market_cap\"] = key_val_pairs.pop('**MARKET CAP (Rs Cr)')\n",
    "        key_val_pairs[\"market_cap\"] = ffloat(key_val_pairs[\"market_cap\"])\n",
    "        key_val_pairs[\"pb\"] = ffloat(key_val_pairs.pop('PRICE/BOOK'))\n",
    "        key_val_pairs[\"pc\"] = ffloat(key_val_pairs.pop('P/C'))\n",
    "        key_val_pairs['price'] = ffloat(price)\n",
    "        key_val_pairs['volume'] = volume\n",
    "        key_val_pairs[\"name\"] = name\n",
    "        key_val_pairs[\"scrip_name\"] = scrip_name\n",
    "        key_val_pairs[\"yearly_low\"] = ffloat(yearly_low)\n",
    "        key_val_pairs[\"yearly_high\"] = ffloat(yearly_high)\n",
    "\n",
    "        key_val_pairs[\"min_csg\"] = min_csg\n",
    "        key_val_pairs[\"three_year_csg\"] = three_year_csg\n",
    "        key_val_pairs[\"min_cpg\"] = min_cpg\n",
    "        key_val_pairs[\"three_year_cpg\"] = three_year_cpg\n",
    "        key_val_pairs[\"min_roe\"] = min_roe\n",
    "        key_val_pairs[\"three_year_roe\"] = three_year_roe\n",
    "        key_val_pairs[\"peg\"] = ffloat(key_val_pairs[\"pe\"])/three_year_cpg\n",
    "        key_val_pairs[\"min_recovery_year\"] = get_year_when_cumulative_profit_over_pe(ffloat(key_val_pairs[\"pe\"]),three_year_cpg)\n",
    "        key_val_pairs['sector'] = sector\n",
    "        key_val_pairs['thirty_dma'] = ffloat(thirty_dma)\n",
    "        key_val_pairs['fifty_dma'] = ffloat(fifty_dma)\n",
    "        key_val_pairs['one_fifty_dma'] = ffloat(one_fifty_dma)\n",
    "        key_val_pairs['two_hundred_dma'] = ffloat(two_hundred_dma)\n",
    "        \n",
    "        key_val_pairs['l_yp'] = l_yp\n",
    "        key_val_pairs['two_yp'] = two_yp\n",
    "        key_val_pairs['three_yp'] = three_yp\n",
    "        key_val_pairs['five_yp'] = five_yp\n",
    "        key_val_pairs['gain_loss_l_yp'] = gain_loss_l_yp\n",
    "        key_val_pairs['gain_loss_two_yp'] = gain_loss_two_yp\n",
    "        key_val_pairs['gain_loss_three_yp'] = gain_loss_three_yp\n",
    "        key_val_pairs['gain_loss_five_yp'] = gain_loss_five_yp\n",
    "        \n",
    "        key_val_pairs['quarterly_results'] = quarterly_results\n",
    "        key_val_pairs['annual_results'] = annual_results\n",
    "        \n",
    "        key_val_pairs['balance_sheet'] = balance_sheet\n",
    "        key_val_pairs['cash_flows'] = cash_flows\n",
    "        key_val_pairs['past_prices'] = past_prices\n",
    "        key_val_pairs['failure'] = False\n",
    "\n",
    "        del key_val_pairs['DIV (%)']\n",
    "        del key_val_pairs['DIV YIELD.(%)']\n",
    "        del key_val_pairs['FACE VALUE (Rs)']\n",
    "        del key_val_pairs['Market Lot']\n",
    "    except Exception as e:\n",
    "#         print(\"Final Catch\")\n",
    "        print(original_url)\n",
    "        #print(screener_url)\n",
    "#         raise e\n",
    "        traceback.print_exc()\n",
    "        key_val_pairs['failure'] = True\n",
    "        key_val_pairs['err'] = \"Error for: %s\"%original_url\n",
    "        print(key_val_pairs['err'])\n",
    "        return key_val_pairs\n",
    "        \n",
    "    return key_val_pairs\n",
    "\n",
    "\n",
    "\n",
    "\n"
   ]
  },
  {
   "cell_type": "code",
   "execution_count": 366,
   "metadata": {
    "ExecuteTime": {
     "end_time": "2018-07-25T12:19:15.145711Z",
     "start_time": "2018-07-25T12:19:15.139345Z"
    }
   },
   "outputs": [],
   "source": [
    "def get_all_details(scrip_links_table,percent_col=4,scrip_col=0,threadpool_size=8):\n",
    "    scrip_details = list()\n",
    "    percent_col = 4\n",
    "    scrip_col = 0\n",
    "    qty_col = 2\n",
    "    total_value_crores_col = 3\n",
    "    \n",
    "    def scrip_detail_collector(row):\n",
    "        scrip_url = row[scrip_col]['href']\n",
    "        scrip_detail = get_scrip_info(scrip_url)\n",
    "        try:\n",
    "            \n",
    "            scrip_detail['percent'] = row[percent_col]['text']\n",
    "            scrip_detail['name'] = row[scrip_col]['text']\n",
    "            scrip_detail['qty'] = row[qty_col]['text']\n",
    "            scrip_detail['total_value_crores'] = row[total_value_crores_col]['text']\n",
    "        except Exception as e:\n",
    "            print(scrip_url)\n",
    "        return scrip_detail\n",
    "        \n",
    "    pool = ThreadPool(threadpool_size)\n",
    "    scrip_details = pool.map(scrip_detail_collector, scrip_links_table)\n",
    "    scrip_details = list(filter(lambda x:x is not None,scrip_details))\n",
    "    length1 = len(scrip_details)\n",
    "    scrip_details = list(filter(lambda x:not x['failure'],scrip_details))\n",
    "    length2 = len(scrip_details)\n",
    "    print(\"Scrips which failed to fetch = %s\"%(length1-length2))\n",
    "    scrip_details = pd.DataFrame.from_records(scrip_details)\n",
    "    numeric_cols = ['book_value', 'price','deliverables', 'eps', 'industry_pe', \n",
    "                    'market_cap', 'pb', 'pc', 'pe', 'percent','qty','total_value_crores',\n",
    "                   'yearly_high','yearly_low','min_csg','three_year_csg','min_cpg','three_year_cpg',\n",
    "                   'min_roe','three_year_roe','peg','min_recovery_year']\n",
    "    scrip_details[numeric_cols] = scrip_details[numeric_cols].applymap(ffloat)\n",
    "    return scrip_details"
   ]
  },
  {
   "cell_type": "markdown",
   "metadata": {},
   "source": [
    "### MF Analysis"
   ]
  },
  {
   "cell_type": "code",
   "execution_count": 8,
   "metadata": {
    "ExecuteTime": {
     "end_time": "2018-07-24T10:15:35.384110Z",
     "start_time": "2018-07-24T10:15:35.382474Z"
    }
   },
   "outputs": [],
   "source": [
    "# get avg pe and pb and deliverables\n",
    "# get avg market cap\n",
    "# current nav\n",
    "# current aum\n",
    "# last five year growth rate\n",
    "# mfid = \"MSB532\"\n",
    "# nifty MKM321 MSB1174\n",
    "# Bluechip SBI MSB532"
   ]
  },
  {
   "cell_type": "code",
   "execution_count": 363,
   "metadata": {
    "ExecuteTime": {
     "end_time": "2018-07-25T12:12:09.541865Z",
     "start_time": "2018-07-25T12:12:09.537104Z"
    }
   },
   "outputs": [],
   "source": [
    "def comparative_analysis(fund_list,threadpool_size=8):\n",
    "    fund_details = list()\n",
    "    for fund in fund_list:\n",
    "        portfolio_table,fund_name = get_portfolio(mfid = fund)\n",
    "        table_data = get_table(portfolio_table)\n",
    "        scrip_details = get_all_details(table_data[1:],threadpool_size=threadpool_size)\n",
    "        pe = np.dot(scrip_details['price'].fillna(0),scrip_details['percent'])/np.dot(scrip_details['eps'].fillna(0),scrip_details['percent'])\n",
    "        three_year_cpg = np.dot(scrip_details['three_year_cpg'].fillna(0),scrip_details['percent']/100)\n",
    "        peg = pe/three_year_cpg\n",
    "        pb = np.dot(scrip_details['price'].fillna(0),scrip_details['percent'])/np.dot(scrip_details['book_value'].fillna(0),scrip_details['percent'])\n",
    "        aum = np.sum(scrip_details['total_value_crores'])\n",
    "        avg_market_cap = np.dot(scrip_details['market_cap'].fillna(0),scrip_details['percent']/100)\n",
    "        min_recovery_year = get_year_when_cumulative_profit_over_pe(pe,three_year_cpg)\n",
    "        fund_detail = {\"name\":fund_name,\"pe\":pe,\"peg\":peg,\"pb\":pb,\"aum\":aum,\"avg_market_cap\":avg_market_cap,\"three_year_cpg\":three_year_cpg,\"min_recovery_year\":min_recovery_year}\n",
    "        fund_details.append(fund_detail)\n",
    "    return pd.DataFrame.from_records(fund_details)"
   ]
  },
  {
   "cell_type": "code",
   "execution_count": 367,
   "metadata": {
    "ExecuteTime": {
     "end_time": "2018-07-25T12:22:54.599046Z",
     "start_time": "2018-07-25T12:19:23.724462Z"
    }
   },
   "outputs": [
    {
     "name": "stderr",
     "output_type": "stream",
     "text": [
      "Some characters could not be decoded, and were replaced with REPLACEMENT CHARACTER.\n",
      "Some characters could not be decoded, and were replaced with REPLACEMENT CHARACTER.\n",
      "Some characters could not be decoded, and were replaced with REPLACEMENT CHARACTER.\n",
      "Some characters could not be decoded, and were replaced with REPLACEMENT CHARACTER.\n"
     ]
    },
    {
     "name": "stdout",
     "output_type": "stream",
     "text": [
      "Scrips which failed to fetch = 0\n"
     ]
    },
    {
     "name": "stderr",
     "output_type": "stream",
     "text": [
      "Some characters could not be decoded, and were replaced with REPLACEMENT CHARACTER.\n",
      "Some characters could not be decoded, and were replaced with REPLACEMENT CHARACTER.\n",
      "Some characters could not be decoded, and were replaced with REPLACEMENT CHARACTER.\n",
      "Some characters could not be decoded, and were replaced with REPLACEMENT CHARACTER.\n",
      "Some characters could not be decoded, and were replaced with REPLACEMENT CHARACTER.\n",
      "Some characters could not be decoded, and were replaced with REPLACEMENT CHARACTER.\n",
      "Some characters could not be decoded, and were replaced with REPLACEMENT CHARACTER.\n"
     ]
    },
    {
     "name": "stdout",
     "output_type": "stream",
     "text": [
      "Scrips which failed to fetch = 0\n"
     ]
    },
    {
     "data": {
      "text/html": [
       "<div>\n",
       "<style scoped>\n",
       "    .dataframe tbody tr th:only-of-type {\n",
       "        vertical-align: middle;\n",
       "    }\n",
       "\n",
       "    .dataframe tbody tr th {\n",
       "        vertical-align: top;\n",
       "    }\n",
       "\n",
       "    .dataframe thead th {\n",
       "        text-align: right;\n",
       "    }\n",
       "</style>\n",
       "<table border=\"1\" class=\"dataframe\">\n",
       "  <thead>\n",
       "    <tr style=\"text-align: right;\">\n",
       "      <th></th>\n",
       "      <th>aum</th>\n",
       "      <th>avg_market_cap</th>\n",
       "      <th>min_recovery_year</th>\n",
       "      <th>name</th>\n",
       "      <th>pb</th>\n",
       "      <th>pe</th>\n",
       "      <th>peg</th>\n",
       "      <th>three_year_cpg</th>\n",
       "    </tr>\n",
       "  </thead>\n",
       "  <tbody>\n",
       "    <tr>\n",
       "      <th>0</th>\n",
       "      <td>4452.41</td>\n",
       "      <td>162273.135301</td>\n",
       "      <td>15</td>\n",
       "      <td>SBI Blue Chip Fund - Direct Plan (G)</td>\n",
       "      <td>5.718309</td>\n",
       "      <td>34.322055</td>\n",
       "      <td>3.011836</td>\n",
       "      <td>11.395725</td>\n",
       "    </tr>\n",
       "    <tr>\n",
       "      <th>1</th>\n",
       "      <td>507.51</td>\n",
       "      <td>299322.601164</td>\n",
       "      <td>14</td>\n",
       "      <td>Kotak Nifty ETF</td>\n",
       "      <td>4.662887</td>\n",
       "      <td>28.591722</td>\n",
       "      <td>2.565105</td>\n",
       "      <td>11.146415</td>\n",
       "    </tr>\n",
       "  </tbody>\n",
       "</table>\n",
       "</div>"
      ],
      "text/plain": [
       "       aum  avg_market_cap  min_recovery_year                                  name        pb         pe       peg  three_year_cpg\n",
       "0  4452.41   162273.135301                 15  SBI Blue Chip Fund - Direct Plan (G)  5.718309  34.322055  3.011836       11.395725\n",
       "1   507.51   299322.601164                 14                       Kotak Nifty ETF  4.662887  28.591722  2.565105       11.146415"
      ]
     },
     "execution_count": 367,
     "metadata": {},
     "output_type": "execute_result"
    }
   ],
   "source": [
    "comparative_analysis(['MSB532','MKM321'],threadpool_size=48)"
   ]
  },
  {
   "cell_type": "markdown",
   "metadata": {},
   "source": [
    "### Company Analysis and Filtering \n",
    "\n"
   ]
  },
  {
   "cell_type": "markdown",
   "metadata": {
    "heading_collapsed": true
   },
   "source": [
    "#### Criterias - Current\n",
    "- both NSE and BSE listing\n",
    "- Not PSU\n",
    "- Market Cap >= 200 Cr\n",
    "- Low P/E, pe<20 in all cases, pe wrt to MarketCap and eps increase\n",
    "- Low debt/Equity Ratio, de<1 in all cases\n",
    "- P/B ratio\n",
    "- Current Ratio > 1\n",
    "- OPM % latest quarter > 10% \n",
    "- PEG < 2 , recovery by cumulative profit sum in less than 8 years\n",
    "- Recovery years on investment by cumulative profits or by pure earnings < 10\n",
    "\n",
    "#### Criterias - Over time \n",
    "- Increasing Sale YoY\n",
    "- Decreasing d/e ratio YoY\n",
    "- Increasing eps YoY\n",
    "- No Steep Price increase in last 2 years\n",
    "\n",
    "#### Criterias - Buy Now\n",
    "- Below 30,100 DMA\n",
    "- Low Volumes \n",
    "\n",
    "#### Find Good Companies from MF\n",
    "- Use above criterias"
   ]
  },
  {
   "cell_type": "markdown",
   "metadata": {},
   "source": [
    "#### Actual P/E function"
   ]
  },
  {
   "cell_type": "code",
   "execution_count": 309,
   "metadata": {
    "ExecuteTime": {
     "end_time": "2018-07-25T11:31:53.497111Z",
     "start_time": "2018-07-25T11:31:53.492790Z"
    }
   },
   "outputs": [],
   "source": [
    "def get_pe_filter(params={\"mcap\":[1e2,1e3,5e3,1e4,2e4],\"pe\":[1,5,10,15,20],\"mcap_lower_limit\":1e2,\"pe_upper_limit\":25}):\n",
    "    def filter_fn(stock_detail):\n",
    "        x=params['mcap']\n",
    "        y=params['pe']\n",
    "        pe = ffloat(stock_detail['pe'])\n",
    "        mcap = ffloat(stock_detail['market_cap'])\n",
    "        \n",
    "        if np.isnan(pe) or np.isnan(mcap):\n",
    "            return False\n",
    "        if pe>params['pe_upper_limit']:\n",
    "            return False\n",
    "        if mcap<params['mcap_lower_limit']:\n",
    "            return False\n",
    "        \n",
    "        right = np.searchsorted(params['mcap'],mcap)\n",
    "        \n",
    "        \n",
    "        if right==0:\n",
    "            right=right+1\n",
    "        \n",
    "        if right==len(x):\n",
    "            right=right-1\n",
    "        \n",
    "        left = right-1\n",
    "        coefficients = np.polyfit([x[left],x[right]], [y[left],y[right]], 1)\n",
    "        polynomial = np.poly1d(coefficients)\n",
    "        pe_value = polynomial(mcap)\n",
    "        if pe<=pe_value:\n",
    "            return True\n",
    "        return False\n",
    "        \n",
    "    return filter_fn"
   ]
  },
  {
   "cell_type": "markdown",
   "metadata": {},
   "source": [
    "#### Testing for P/E and marketcap"
   ]
  },
  {
   "cell_type": "code",
   "execution_count": 307,
   "metadata": {
    "ExecuteTime": {
     "end_time": "2018-07-25T11:29:04.633790Z",
     "start_time": "2018-07-25T11:29:04.604081Z"
    }
   },
   "outputs": [
    {
     "data": {
      "text/html": [
       "<div>\n",
       "<style scoped>\n",
       "    .dataframe tbody tr th:only-of-type {\n",
       "        vertical-align: middle;\n",
       "    }\n",
       "\n",
       "    .dataframe tbody tr th {\n",
       "        vertical-align: top;\n",
       "    }\n",
       "\n",
       "    .dataframe thead th {\n",
       "        text-align: right;\n",
       "    }\n",
       "</style>\n",
       "<table border=\"1\" class=\"dataframe\">\n",
       "  <thead>\n",
       "    <tr style=\"text-align: right;\">\n",
       "      <th></th>\n",
       "      <th>mcap</th>\n",
       "      <th>pe</th>\n",
       "    </tr>\n",
       "  </thead>\n",
       "  <tbody>\n",
       "    <tr>\n",
       "      <th>0</th>\n",
       "      <td>100.0</td>\n",
       "      <td>1</td>\n",
       "    </tr>\n",
       "    <tr>\n",
       "      <th>1</th>\n",
       "      <td>400.0</td>\n",
       "      <td>2</td>\n",
       "    </tr>\n",
       "    <tr>\n",
       "      <th>2</th>\n",
       "      <td>600.0</td>\n",
       "      <td>3</td>\n",
       "    </tr>\n",
       "    <tr>\n",
       "      <th>3</th>\n",
       "      <td>800.0</td>\n",
       "      <td>4</td>\n",
       "    </tr>\n",
       "    <tr>\n",
       "      <th>4</th>\n",
       "      <td>1000.0</td>\n",
       "      <td>5</td>\n",
       "    </tr>\n",
       "    <tr>\n",
       "      <th>5</th>\n",
       "      <td>1900.0</td>\n",
       "      <td>6</td>\n",
       "    </tr>\n",
       "  </tbody>\n",
       "</table>\n",
       "</div>"
      ],
      "text/plain": [
       "     mcap  pe\n",
       "0   100.0   1\n",
       "1   400.0   2\n",
       "2   600.0   3\n",
       "3   800.0   4\n",
       "4  1000.0   5\n",
       "5  1900.0   6"
      ]
     },
     "execution_count": 307,
     "metadata": {},
     "output_type": "execute_result"
    }
   ],
   "source": [
    "pe_list = list()\n",
    "pe_set = set()\n",
    "pe_comparator = get_pe_filter()\n",
    "for pe in [1,2,3,4,5,6,7,9,10,11,13]:\n",
    "    for mcap in np.arange(1e2,2e3,1e2):\n",
    "        if pe not in pe_set:\n",
    "            if pe_comparator({\"pe\":pe,\"market_cap\":mcap}):\n",
    "                pe_list.append({\"mcap\":mcap,\"pe\":pe})\n",
    "                pe_set.add(pe)\n",
    "pd.DataFrame.from_records(pe_list)"
   ]
  },
  {
   "cell_type": "code",
   "execution_count": 308,
   "metadata": {
    "ExecuteTime": {
     "end_time": "2018-07-25T11:29:05.128938Z",
     "start_time": "2018-07-25T11:29:05.101369Z"
    },
    "scrolled": false
   },
   "outputs": [
    {
     "data": {
      "text/html": [
       "<div>\n",
       "<style scoped>\n",
       "    .dataframe tbody tr th:only-of-type {\n",
       "        vertical-align: middle;\n",
       "    }\n",
       "\n",
       "    .dataframe tbody tr th {\n",
       "        vertical-align: top;\n",
       "    }\n",
       "\n",
       "    .dataframe thead th {\n",
       "        text-align: right;\n",
       "    }\n",
       "</style>\n",
       "<table border=\"1\" class=\"dataframe\">\n",
       "  <thead>\n",
       "    <tr style=\"text-align: right;\">\n",
       "      <th></th>\n",
       "      <th>mcap</th>\n",
       "      <th>pe</th>\n",
       "    </tr>\n",
       "  </thead>\n",
       "  <tbody>\n",
       "    <tr>\n",
       "      <th>0</th>\n",
       "      <td>1000.0</td>\n",
       "      <td>1</td>\n",
       "    </tr>\n",
       "    <tr>\n",
       "      <th>1</th>\n",
       "      <td>1000.0</td>\n",
       "      <td>3</td>\n",
       "    </tr>\n",
       "    <tr>\n",
       "      <th>2</th>\n",
       "      <td>3000.0</td>\n",
       "      <td>7</td>\n",
       "    </tr>\n",
       "    <tr>\n",
       "      <th>3</th>\n",
       "      <td>5000.0</td>\n",
       "      <td>9</td>\n",
       "    </tr>\n",
       "    <tr>\n",
       "      <th>4</th>\n",
       "      <td>6000.0</td>\n",
       "      <td>10</td>\n",
       "    </tr>\n",
       "    <tr>\n",
       "      <th>5</th>\n",
       "      <td>6000.0</td>\n",
       "      <td>11</td>\n",
       "    </tr>\n",
       "    <tr>\n",
       "      <th>6</th>\n",
       "      <td>8000.0</td>\n",
       "      <td>13</td>\n",
       "    </tr>\n",
       "    <tr>\n",
       "      <th>7</th>\n",
       "      <td>10000.0</td>\n",
       "      <td>15</td>\n",
       "    </tr>\n",
       "    <tr>\n",
       "      <th>8</th>\n",
       "      <td>14000.0</td>\n",
       "      <td>17</td>\n",
       "    </tr>\n",
       "    <tr>\n",
       "      <th>9</th>\n",
       "      <td>16000.0</td>\n",
       "      <td>18</td>\n",
       "    </tr>\n",
       "    <tr>\n",
       "      <th>10</th>\n",
       "      <td>18000.0</td>\n",
       "      <td>19</td>\n",
       "    </tr>\n",
       "  </tbody>\n",
       "</table>\n",
       "</div>"
      ],
      "text/plain": [
       "       mcap  pe\n",
       "0    1000.0   1\n",
       "1    1000.0   3\n",
       "2    3000.0   7\n",
       "3    5000.0   9\n",
       "4    6000.0  10\n",
       "5    6000.0  11\n",
       "6    8000.0  13\n",
       "7   10000.0  15\n",
       "8   14000.0  17\n",
       "9   16000.0  18\n",
       "10  18000.0  19"
      ]
     },
     "execution_count": 308,
     "metadata": {},
     "output_type": "execute_result"
    }
   ],
   "source": [
    "pe_list = list()\n",
    "pe_set = set()\n",
    "pe_comparator = get_pe_filter()\n",
    "for pe in [1,3,7,9,10,11,13,15,17,18,19,20,21,22,25,30]:\n",
    "    for mcap in np.arange(1e3,2e4,1e3):\n",
    "        if pe not in pe_set:\n",
    "            if pe_comparator({\"pe\":pe,\"market_cap\":mcap}):\n",
    "                pe_list.append({\"mcap\":mcap,\"pe\":pe})\n",
    "                pe_set.add(pe)\n",
    "pd.DataFrame.from_records(pe_list)\n"
   ]
  },
  {
   "cell_type": "markdown",
   "metadata": {},
   "source": [
    "#### P/B and Book_value>0"
   ]
  },
  {
   "cell_type": "code",
   "execution_count": 331,
   "metadata": {
    "ExecuteTime": {
     "end_time": "2018-07-25T11:46:02.125889Z",
     "start_time": "2018-07-25T11:46:02.121507Z"
    }
   },
   "outputs": [],
   "source": [
    "def get_pb_filter(params={\"mcap\":[1e2,5e2,1e3,2e3,6e3],\"pb\":[1,2,3,4,5],\"pb_upper_limit\":5}):\n",
    "    def filter_fn(stock_detail):\n",
    "        x=params['mcap']\n",
    "        y=params['pb']\n",
    "        pb = ffloat(stock_detail['pb'])\n",
    "        bv = ffloat(stock_detail['book_value'])\n",
    "        mcap = ffloat(stock_detail['market_cap'])\n",
    "        \n",
    "        if np.isnan(pb) or np.isnan(bv) or pb>params['pb_upper_limit'] or bv<0:\n",
    "            return False\n",
    "        \n",
    "        if pb>params['pb_upper_limit']:\n",
    "            return False\n",
    "        \n",
    "        right = np.searchsorted(params['mcap'],mcap)\n",
    "        \n",
    "        \n",
    "        if right==0:\n",
    "            right=right+1\n",
    "        \n",
    "        if right==len(x):\n",
    "            right=right-1\n",
    "        \n",
    "        left = right-1\n",
    "        coefficients = np.polyfit([x[left],x[right]], [y[left],y[right]], 1)\n",
    "        polynomial = np.poly1d(coefficients)\n",
    "        pb_value = polynomial(mcap)\n",
    "        if pb<=pb_value:\n",
    "            return True\n",
    "        return False\n",
    "        \n",
    "    return filter_fn"
   ]
  },
  {
   "cell_type": "code",
   "execution_count": 332,
   "metadata": {
    "ExecuteTime": {
     "end_time": "2018-07-25T11:46:02.900995Z",
     "start_time": "2018-07-25T11:46:02.883881Z"
    }
   },
   "outputs": [
    {
     "data": {
      "text/html": [
       "<div>\n",
       "<style scoped>\n",
       "    .dataframe tbody tr th:only-of-type {\n",
       "        vertical-align: middle;\n",
       "    }\n",
       "\n",
       "    .dataframe tbody tr th {\n",
       "        vertical-align: top;\n",
       "    }\n",
       "\n",
       "    .dataframe thead th {\n",
       "        text-align: right;\n",
       "    }\n",
       "</style>\n",
       "<table border=\"1\" class=\"dataframe\">\n",
       "  <thead>\n",
       "    <tr style=\"text-align: right;\">\n",
       "      <th></th>\n",
       "      <th>mcap</th>\n",
       "      <th>pb</th>\n",
       "    </tr>\n",
       "  </thead>\n",
       "  <tbody>\n",
       "    <tr>\n",
       "      <th>0</th>\n",
       "      <td>200.0</td>\n",
       "      <td>1.0</td>\n",
       "    </tr>\n",
       "    <tr>\n",
       "      <th>1</th>\n",
       "      <td>400.0</td>\n",
       "      <td>1.5</td>\n",
       "    </tr>\n",
       "    <tr>\n",
       "      <th>2</th>\n",
       "      <td>600.0</td>\n",
       "      <td>2.0</td>\n",
       "    </tr>\n",
       "    <tr>\n",
       "      <th>3</th>\n",
       "      <td>800.0</td>\n",
       "      <td>2.5</td>\n",
       "    </tr>\n",
       "    <tr>\n",
       "      <th>4</th>\n",
       "      <td>1000.0</td>\n",
       "      <td>3.0</td>\n",
       "    </tr>\n",
       "  </tbody>\n",
       "</table>\n",
       "</div>"
      ],
      "text/plain": [
       "     mcap   pb\n",
       "0   200.0  1.0\n",
       "1   400.0  1.5\n",
       "2   600.0  2.0\n",
       "3   800.0  2.5\n",
       "4  1000.0  3.0"
      ]
     },
     "execution_count": 332,
     "metadata": {},
     "output_type": "execute_result"
    }
   ],
   "source": [
    "pb_list = list()\n",
    "pb_comparator_test = get_pb_filter()\n",
    "pb_set = set()\n",
    "for pb in [1,1.5,2,2.5,3,4]:\n",
    "    for mcap in np.arange(1e2,2e3,1e2):\n",
    "        if pb not in pb_set:\n",
    "            if pb_comparator_test({'market_cap':mcap,\"pb\":pb,\"book_value\":10}):\n",
    "                pb_list.append({\"mcap\":mcap,\"pb\":pb})\n",
    "                pb_set.add(pb)\n",
    "pd.DataFrame.from_records(pb_list)"
   ]
  },
  {
   "cell_type": "code",
   "execution_count": 333,
   "metadata": {
    "ExecuteTime": {
     "end_time": "2018-07-25T11:46:03.279637Z",
     "start_time": "2018-07-25T11:46:03.269344Z"
    }
   },
   "outputs": [
    {
     "data": {
      "text/html": [
       "<div>\n",
       "<style scoped>\n",
       "    .dataframe tbody tr th:only-of-type {\n",
       "        vertical-align: middle;\n",
       "    }\n",
       "\n",
       "    .dataframe tbody tr th {\n",
       "        vertical-align: top;\n",
       "    }\n",
       "\n",
       "    .dataframe thead th {\n",
       "        text-align: right;\n",
       "    }\n",
       "</style>\n",
       "<table border=\"1\" class=\"dataframe\">\n",
       "  <thead>\n",
       "    <tr style=\"text-align: right;\">\n",
       "      <th></th>\n",
       "      <th>mcap</th>\n",
       "      <th>pb</th>\n",
       "    </tr>\n",
       "  </thead>\n",
       "  <tbody>\n",
       "    <tr>\n",
       "      <th>0</th>\n",
       "      <td>1000.0</td>\n",
       "      <td>1.0</td>\n",
       "    </tr>\n",
       "    <tr>\n",
       "      <th>1</th>\n",
       "      <td>1000.0</td>\n",
       "      <td>2.0</td>\n",
       "    </tr>\n",
       "    <tr>\n",
       "      <th>2</th>\n",
       "      <td>1000.0</td>\n",
       "      <td>3.0</td>\n",
       "    </tr>\n",
       "    <tr>\n",
       "      <th>3</th>\n",
       "      <td>2000.0</td>\n",
       "      <td>4.0</td>\n",
       "    </tr>\n",
       "    <tr>\n",
       "      <th>4</th>\n",
       "      <td>4000.0</td>\n",
       "      <td>4.5</td>\n",
       "    </tr>\n",
       "    <tr>\n",
       "      <th>5</th>\n",
       "      <td>6000.0</td>\n",
       "      <td>5.0</td>\n",
       "    </tr>\n",
       "  </tbody>\n",
       "</table>\n",
       "</div>"
      ],
      "text/plain": [
       "     mcap   pb\n",
       "0  1000.0  1.0\n",
       "1  1000.0  2.0\n",
       "2  1000.0  3.0\n",
       "3  2000.0  4.0\n",
       "4  4000.0  4.5\n",
       "5  6000.0  5.0"
      ]
     },
     "execution_count": 333,
     "metadata": {},
     "output_type": "execute_result"
    }
   ],
   "source": [
    "pb_comparator_test = get_pb_filter()\n",
    "pb_list = list()\n",
    "pb_set = set()\n",
    "for pb in [1,2,3,4,4.5,5]:\n",
    "    for mcap in np.arange(1e3,2e4,1e3):\n",
    "        if pb not in pb_set:\n",
    "            if pb_comparator_test({'market_cap':mcap,\"pb\":pb,\"book_value\":10}):\n",
    "                pb_list.append({\"mcap\":mcap,\"pb\":pb})\n",
    "                pb_set.add(pb)\n",
    "pd.DataFrame.from_records(pb_list)"
   ]
  },
  {
   "cell_type": "markdown",
   "metadata": {},
   "source": [
    "#### Getting All Company Links from MoneyControl"
   ]
  },
  {
   "cell_type": "code",
   "execution_count": 334,
   "metadata": {
    "ExecuteTime": {
     "end_time": "2018-07-25T11:46:13.357004Z",
     "start_time": "2018-07-25T11:46:13.353613Z"
    }
   },
   "outputs": [],
   "source": [
    "\n",
    "\n",
    "def get_stock_urls_from_listing_page(listing_page):\n",
    "    page_response = requests.get(listing_page, timeout=10)\n",
    "    page_content = BeautifulSoup(page_response.content, \"html.parser\")\n",
    "    urls_table = page_content.find('table',attrs={'class':'pcq_tbl'})\n",
    "    links = list(map(lambda x:get_children(x)[0]['href'],urls_table.find_all('td')))\n",
    "    return links\n",
    "\n",
    "def get_all_links(threadpool_size=8):\n",
    "    abc = 'ABCDEFGHIJKLMNOPQRSTUVWXYZ'\n",
    "    letters = [letter for letter in abc]\n",
    "    listing_page_urls = ['https://www.moneycontrol.com/india/stockpricequote/'+letter for letter in letters]\n",
    "    pool = ThreadPool(threadpool_size)\n",
    "    all_links = list(more_itertools.flatten(pool.map(get_stock_urls_from_listing_page, listing_page_urls)))\n",
    "    return all_links"
   ]
  },
  {
   "cell_type": "code",
   "execution_count": 245,
   "metadata": {
    "ExecuteTime": {
     "end_time": "2018-07-25T09:01:36.094414Z",
     "start_time": "2018-07-25T09:01:36.089273Z"
    }
   },
   "outputs": [],
   "source": [
    "def get_all_company_details(accumulator={},failures=[],size=10000,threadpool_size=8,ignore_failures=True,ignore_success=True):\n",
    "    # filters is a list of functions returning T/F, They are always\n",
    "    batch_size = 10*threadpool_size\n",
    "    all_links = get_all_links()\n",
    "    if ignore_success:\n",
    "        all_links = list(set(all_links) - set([scrip['original_url'] for scrip in accumulator.values()]))\n",
    "    if ignore_failures:\n",
    "        all_links = list(set(all_links) - set([scrip['original_url'] for scrip in failures]))\n",
    "    shuffle(all_links)\n",
    "    all_links = all_links[:size]\n",
    "    print(\"Total Links after removing success and failures = %s\"%(len(all_links)))\n",
    "    pool = ThreadPool(threadpool_size)\n",
    "    batches = int(np.ceil(len(all_links)/batch_size))\n",
    "    \n",
    "    for batch_num in range(batches):\n",
    "        start = batch_num*batch_size\n",
    "        end = (batch_num+1)*batch_size\n",
    "        print(\"start = %s, end = %s\"%(start,end))\n",
    "        this_batch = all_links[start:end]\n",
    "        scrip_details = pool.map(get_scrip_info, this_batch)\n",
    "        scrip_details = list(filter(lambda x:x is not None,scrip_details))\n",
    "        fails = list(filter(lambda x:x['failure'],scrip_details))\n",
    "        scrip_details = list(filter(lambda x:not x['failure'],scrip_details))\n",
    "        for scrip in scrip_details:\n",
    "            accumulator[scrip['scrip_name']] = scrip\n",
    "        failures.extend(fails)"
   ]
  },
  {
   "cell_type": "code",
   "execution_count": 108,
   "metadata": {
    "ExecuteTime": {
     "end_time": "2018-07-24T16:10:10.648710Z",
     "start_time": "2018-07-24T16:10:10.647023Z"
    }
   },
   "outputs": [],
   "source": [
    "accumulator={}"
   ]
  },
  {
   "cell_type": "code",
   "execution_count": 234,
   "metadata": {
    "ExecuteTime": {
     "end_time": "2018-07-25T08:40:41.394023Z",
     "start_time": "2018-07-25T08:40:41.392245Z"
    }
   },
   "outputs": [],
   "source": [
    "failures = []"
   ]
  },
  {
   "cell_type": "code",
   "execution_count": 336,
   "metadata": {
    "ExecuteTime": {
     "end_time": "2018-07-25T11:46:30.932372Z",
     "start_time": "2018-07-25T11:46:26.299595Z"
    }
   },
   "outputs": [
    {
     "name": "stdout",
     "output_type": "stream",
     "text": [
      "Total Links after removing success and failures = 0\n"
     ]
    }
   ],
   "source": [
    "\n",
    "get_all_company_details(accumulator,failures,size=10000,threadpool_size=48);"
   ]
  },
  {
   "cell_type": "code",
   "execution_count": 335,
   "metadata": {
    "ExecuteTime": {
     "end_time": "2018-07-25T11:46:21.311523Z",
     "start_time": "2018-07-25T11:46:21.308251Z"
    }
   },
   "outputs": [
    {
     "data": {
      "text/plain": [
       "1581"
      ]
     },
     "execution_count": 335,
     "metadata": {},
     "output_type": "execute_result"
    },
    {
     "data": {
      "text/plain": [
       "6795"
      ]
     },
     "execution_count": 335,
     "metadata": {},
     "output_type": "execute_result"
    }
   ],
   "source": [
    "len(accumulator.keys())\n",
    "len(failures)"
   ]
  },
  {
   "cell_type": "markdown",
   "metadata": {},
   "source": [
    "#### Write to File"
   ]
  },
  {
   "cell_type": "code",
   "execution_count": 355,
   "metadata": {
    "ExecuteTime": {
     "end_time": "2018-07-25T12:02:10.008440Z",
     "start_time": "2018-07-25T12:02:02.984294Z"
    }
   },
   "outputs": [],
   "source": [
    "\n",
    "import dill\n",
    "with open('stock_results.pkl', 'wb') as f:\n",
    "    dill.dump(accumulator, f)\n",
    "    dill.dump(failures, f)"
   ]
  },
  {
   "cell_type": "markdown",
   "metadata": {},
   "source": [
    "#### Read from File"
   ]
  },
  {
   "cell_type": "code",
   "execution_count": 356,
   "metadata": {
    "ExecuteTime": {
     "end_time": "2018-07-25T12:02:12.135544Z",
     "start_time": "2018-07-25T12:02:10.010042Z"
    }
   },
   "outputs": [],
   "source": [
    "with open('stock_results.pkl', 'rb') as f:\n",
    "    accumulator = dill.load(f)\n",
    "    failures = dill.load(f)"
   ]
  },
  {
   "cell_type": "code",
   "execution_count": 350,
   "metadata": {
    "ExecuteTime": {
     "end_time": "2018-07-25T11:53:51.141419Z",
     "start_time": "2018-07-25T11:53:51.137488Z"
    }
   },
   "outputs": [],
   "source": [
    "def filter_companies(all_scrips,filters=[]):\n",
    "    scrip_details = list(all_scrips.values())\n",
    "    for filtr in filters:\n",
    "        scrip_details = list(filter(filtr,scrip_details))\n",
    "        print(len(scrip_details))\n",
    "    scrip_details = pd.DataFrame.from_records(scrip_details)\n",
    "    numeric_cols = ['book_value', 'price','deliverables', 'eps', 'industry_pe', \n",
    "                    'market_cap', 'pb', 'pc', 'pe',\n",
    "                   'yearly_high','yearly_low','min_csg','three_year_csg','min_cpg','three_year_cpg',\n",
    "                   'min_roe','three_year_roe','peg','min_recovery_year']\n",
    "    scrip_details[numeric_cols] = scrip_details[numeric_cols].applymap(ffloat)\n",
    "    return scrip_details\n",
    "    \n",
    "    "
   ]
  },
  {
   "cell_type": "code",
   "execution_count": 351,
   "metadata": {
    "ExecuteTime": {
     "end_time": "2018-07-25T11:53:52.146783Z",
     "start_time": "2018-07-25T11:53:52.053528Z"
    }
   },
   "outputs": [
    {
     "data": {
      "text/plain": [
       "92"
      ]
     },
     "execution_count": 351,
     "metadata": {},
     "output_type": "execute_result"
    }
   ],
   "source": [
    "len(list(filter(get_pe_filter(),list(accumulator.values()))))"
   ]
  },
  {
   "cell_type": "code",
   "execution_count": 352,
   "metadata": {
    "ExecuteTime": {
     "end_time": "2018-07-25T11:53:53.554374Z",
     "start_time": "2018-07-25T11:53:53.082014Z"
    },
    "scrolled": false
   },
   "outputs": [
    {
     "name": "stdout",
     "output_type": "stream",
     "text": [
      "92\n"
     ]
    },
    {
     "ename": "StopIteration",
     "evalue": "",
     "output_type": "error",
     "traceback": [
      "\u001b[0;31m---------------------------------------------------------------------------\u001b[0m",
      "\u001b[0;31mStopIteration\u001b[0m                             Traceback (most recent call last)",
      "\u001b[0;32m~/anaconda3/lib/python3.6/site-packages/IPython/core/formatters.py\u001b[0m in \u001b[0;36m__call__\u001b[0;34m(self, obj)\u001b[0m\n\u001b[1;32m    700\u001b[0m                 \u001b[0mtype_pprinters\u001b[0m\u001b[0;34m=\u001b[0m\u001b[0mself\u001b[0m\u001b[0;34m.\u001b[0m\u001b[0mtype_printers\u001b[0m\u001b[0;34m,\u001b[0m\u001b[0;34m\u001b[0m\u001b[0m\n\u001b[1;32m    701\u001b[0m                 deferred_pprinters=self.deferred_printers)\n\u001b[0;32m--> 702\u001b[0;31m             \u001b[0mprinter\u001b[0m\u001b[0;34m.\u001b[0m\u001b[0mpretty\u001b[0m\u001b[0;34m(\u001b[0m\u001b[0mobj\u001b[0m\u001b[0;34m)\u001b[0m\u001b[0;34m\u001b[0m\u001b[0m\n\u001b[0m\u001b[1;32m    703\u001b[0m             \u001b[0mprinter\u001b[0m\u001b[0;34m.\u001b[0m\u001b[0mflush\u001b[0m\u001b[0;34m(\u001b[0m\u001b[0;34m)\u001b[0m\u001b[0;34m\u001b[0m\u001b[0m\n\u001b[1;32m    704\u001b[0m             \u001b[0;32mreturn\u001b[0m \u001b[0mstream\u001b[0m\u001b[0;34m.\u001b[0m\u001b[0mgetvalue\u001b[0m\u001b[0;34m(\u001b[0m\u001b[0;34m)\u001b[0m\u001b[0;34m\u001b[0m\u001b[0m\n",
      "\u001b[0;32m~/anaconda3/lib/python3.6/site-packages/IPython/lib/pretty.py\u001b[0m in \u001b[0;36mpretty\u001b[0;34m(self, obj)\u001b[0m\n\u001b[1;32m    398\u001b[0m                         \u001b[0;32mif\u001b[0m \u001b[0mcls\u001b[0m \u001b[0;32mis\u001b[0m \u001b[0;32mnot\u001b[0m \u001b[0mobject\u001b[0m\u001b[0;31m \u001b[0m\u001b[0;31m\\\u001b[0m\u001b[0;34m\u001b[0m\u001b[0m\n\u001b[1;32m    399\u001b[0m                                 \u001b[0;32mand\u001b[0m \u001b[0mcallable\u001b[0m\u001b[0;34m(\u001b[0m\u001b[0mcls\u001b[0m\u001b[0;34m.\u001b[0m\u001b[0m__dict__\u001b[0m\u001b[0;34m.\u001b[0m\u001b[0mget\u001b[0m\u001b[0;34m(\u001b[0m\u001b[0;34m'__repr__'\u001b[0m\u001b[0;34m)\u001b[0m\u001b[0;34m)\u001b[0m\u001b[0;34m:\u001b[0m\u001b[0;34m\u001b[0m\u001b[0m\n\u001b[0;32m--> 400\u001b[0;31m                             \u001b[0;32mreturn\u001b[0m \u001b[0m_repr_pprint\u001b[0m\u001b[0;34m(\u001b[0m\u001b[0mobj\u001b[0m\u001b[0;34m,\u001b[0m \u001b[0mself\u001b[0m\u001b[0;34m,\u001b[0m \u001b[0mcycle\u001b[0m\u001b[0;34m)\u001b[0m\u001b[0;34m\u001b[0m\u001b[0m\n\u001b[0m\u001b[1;32m    401\u001b[0m \u001b[0;34m\u001b[0m\u001b[0m\n\u001b[1;32m    402\u001b[0m             \u001b[0;32mreturn\u001b[0m \u001b[0m_default_pprint\u001b[0m\u001b[0;34m(\u001b[0m\u001b[0mobj\u001b[0m\u001b[0;34m,\u001b[0m \u001b[0mself\u001b[0m\u001b[0;34m,\u001b[0m \u001b[0mcycle\u001b[0m\u001b[0;34m)\u001b[0m\u001b[0;34m\u001b[0m\u001b[0m\n",
      "\u001b[0;32m~/anaconda3/lib/python3.6/site-packages/IPython/lib/pretty.py\u001b[0m in \u001b[0;36m_repr_pprint\u001b[0;34m(obj, p, cycle)\u001b[0m\n\u001b[1;32m    693\u001b[0m     \u001b[0;34m\"\"\"A pprint that just redirects to the normal repr function.\"\"\"\u001b[0m\u001b[0;34m\u001b[0m\u001b[0m\n\u001b[1;32m    694\u001b[0m     \u001b[0;31m# Find newlines and replace them with p.break_()\u001b[0m\u001b[0;34m\u001b[0m\u001b[0;34m\u001b[0m\u001b[0m\n\u001b[0;32m--> 695\u001b[0;31m     \u001b[0moutput\u001b[0m \u001b[0;34m=\u001b[0m \u001b[0mrepr\u001b[0m\u001b[0;34m(\u001b[0m\u001b[0mobj\u001b[0m\u001b[0;34m)\u001b[0m\u001b[0;34m\u001b[0m\u001b[0m\n\u001b[0m\u001b[1;32m    696\u001b[0m     \u001b[0;32mfor\u001b[0m \u001b[0midx\u001b[0m\u001b[0;34m,\u001b[0m\u001b[0moutput_line\u001b[0m \u001b[0;32min\u001b[0m \u001b[0menumerate\u001b[0m\u001b[0;34m(\u001b[0m\u001b[0moutput\u001b[0m\u001b[0;34m.\u001b[0m\u001b[0msplitlines\u001b[0m\u001b[0;34m(\u001b[0m\u001b[0;34m)\u001b[0m\u001b[0;34m)\u001b[0m\u001b[0;34m:\u001b[0m\u001b[0;34m\u001b[0m\u001b[0m\n\u001b[1;32m    697\u001b[0m         \u001b[0;32mif\u001b[0m \u001b[0midx\u001b[0m\u001b[0;34m:\u001b[0m\u001b[0;34m\u001b[0m\u001b[0m\n",
      "\u001b[0;32m~/anaconda3/lib/python3.6/site-packages/pandas/core/base.py\u001b[0m in \u001b[0;36m__repr__\u001b[0;34m(self)\u001b[0m\n\u001b[1;32m     78\u001b[0m         \u001b[0mYields\u001b[0m \u001b[0mBytestring\u001b[0m \u001b[0;32min\u001b[0m \u001b[0mPy2\u001b[0m\u001b[0;34m,\u001b[0m \u001b[0mUnicode\u001b[0m \u001b[0mString\u001b[0m \u001b[0;32min\u001b[0m \u001b[0mpy3\u001b[0m\u001b[0;34m.\u001b[0m\u001b[0;34m\u001b[0m\u001b[0m\n\u001b[1;32m     79\u001b[0m         \"\"\"\n\u001b[0;32m---> 80\u001b[0;31m         \u001b[0;32mreturn\u001b[0m \u001b[0mstr\u001b[0m\u001b[0;34m(\u001b[0m\u001b[0mself\u001b[0m\u001b[0;34m)\u001b[0m\u001b[0;34m\u001b[0m\u001b[0m\n\u001b[0m\u001b[1;32m     81\u001b[0m \u001b[0;34m\u001b[0m\u001b[0m\n\u001b[1;32m     82\u001b[0m \u001b[0;34m\u001b[0m\u001b[0m\n",
      "\u001b[0;32m~/anaconda3/lib/python3.6/site-packages/pandas/core/base.py\u001b[0m in \u001b[0;36m__str__\u001b[0;34m(self)\u001b[0m\n\u001b[1;32m     57\u001b[0m \u001b[0;34m\u001b[0m\u001b[0m\n\u001b[1;32m     58\u001b[0m         \u001b[0;32mif\u001b[0m \u001b[0mcompat\u001b[0m\u001b[0;34m.\u001b[0m\u001b[0mPY3\u001b[0m\u001b[0;34m:\u001b[0m\u001b[0;34m\u001b[0m\u001b[0m\n\u001b[0;32m---> 59\u001b[0;31m             \u001b[0;32mreturn\u001b[0m \u001b[0mself\u001b[0m\u001b[0;34m.\u001b[0m\u001b[0m__unicode__\u001b[0m\u001b[0;34m(\u001b[0m\u001b[0;34m)\u001b[0m\u001b[0;34m\u001b[0m\u001b[0m\n\u001b[0m\u001b[1;32m     60\u001b[0m         \u001b[0;32mreturn\u001b[0m \u001b[0mself\u001b[0m\u001b[0;34m.\u001b[0m\u001b[0m__bytes__\u001b[0m\u001b[0;34m(\u001b[0m\u001b[0;34m)\u001b[0m\u001b[0;34m\u001b[0m\u001b[0m\n\u001b[1;32m     61\u001b[0m \u001b[0;34m\u001b[0m\u001b[0m\n",
      "\u001b[0;32m~/anaconda3/lib/python3.6/site-packages/pandas/core/frame.py\u001b[0m in \u001b[0;36m__unicode__\u001b[0;34m(self)\u001b[0m\n\u001b[1;32m    634\u001b[0m             \u001b[0mwidth\u001b[0m \u001b[0;34m=\u001b[0m \u001b[0;32mNone\u001b[0m\u001b[0;34m\u001b[0m\u001b[0m\n\u001b[1;32m    635\u001b[0m         self.to_string(buf=buf, max_rows=max_rows, max_cols=max_cols,\n\u001b[0;32m--> 636\u001b[0;31m                        line_width=width, show_dimensions=show_dimensions)\n\u001b[0m\u001b[1;32m    637\u001b[0m \u001b[0;34m\u001b[0m\u001b[0m\n\u001b[1;32m    638\u001b[0m         \u001b[0;32mreturn\u001b[0m \u001b[0mbuf\u001b[0m\u001b[0;34m.\u001b[0m\u001b[0mgetvalue\u001b[0m\u001b[0;34m(\u001b[0m\u001b[0;34m)\u001b[0m\u001b[0;34m\u001b[0m\u001b[0m\n",
      "\u001b[0;32m~/anaconda3/lib/python3.6/site-packages/pandas/core/frame.py\u001b[0m in \u001b[0;36mto_string\u001b[0;34m(self, buf, columns, col_space, header, index, na_rep, formatters, float_format, sparsify, index_names, justify, line_width, max_rows, max_cols, show_dimensions)\u001b[0m\n\u001b[1;32m   1673\u001b[0m                                            \u001b[0mmax_cols\u001b[0m\u001b[0;34m=\u001b[0m\u001b[0mmax_cols\u001b[0m\u001b[0;34m,\u001b[0m\u001b[0;34m\u001b[0m\u001b[0m\n\u001b[1;32m   1674\u001b[0m                                            show_dimensions=show_dimensions)\n\u001b[0;32m-> 1675\u001b[0;31m         \u001b[0mformatter\u001b[0m\u001b[0;34m.\u001b[0m\u001b[0mto_string\u001b[0m\u001b[0;34m(\u001b[0m\u001b[0;34m)\u001b[0m\u001b[0;34m\u001b[0m\u001b[0m\n\u001b[0m\u001b[1;32m   1676\u001b[0m \u001b[0;34m\u001b[0m\u001b[0m\n\u001b[1;32m   1677\u001b[0m         \u001b[0;32mif\u001b[0m \u001b[0mbuf\u001b[0m \u001b[0;32mis\u001b[0m \u001b[0;32mNone\u001b[0m\u001b[0;34m:\u001b[0m\u001b[0;34m\u001b[0m\u001b[0m\n",
      "\u001b[0;32m~/anaconda3/lib/python3.6/site-packages/pandas/io/formats/format.py\u001b[0m in \u001b[0;36mto_string\u001b[0;34m(self)\u001b[0m\n\u001b[1;32m    595\u001b[0m         \u001b[0;32melse\u001b[0m\u001b[0;34m:\u001b[0m\u001b[0;34m\u001b[0m\u001b[0m\n\u001b[1;32m    596\u001b[0m \u001b[0;34m\u001b[0m\u001b[0m\n\u001b[0;32m--> 597\u001b[0;31m             \u001b[0mstrcols\u001b[0m \u001b[0;34m=\u001b[0m \u001b[0mself\u001b[0m\u001b[0;34m.\u001b[0m\u001b[0m_to_str_columns\u001b[0m\u001b[0;34m(\u001b[0m\u001b[0;34m)\u001b[0m\u001b[0;34m\u001b[0m\u001b[0m\n\u001b[0m\u001b[1;32m    598\u001b[0m             \u001b[0;32mif\u001b[0m \u001b[0mself\u001b[0m\u001b[0;34m.\u001b[0m\u001b[0mline_width\u001b[0m \u001b[0;32mis\u001b[0m \u001b[0;32mNone\u001b[0m\u001b[0;34m:\u001b[0m  \u001b[0;31m# no need to wrap around just print\u001b[0m\u001b[0;34m\u001b[0m\u001b[0m\n\u001b[1;32m    599\u001b[0m                 \u001b[0;31m# the whole frame\u001b[0m\u001b[0;34m\u001b[0m\u001b[0;34m\u001b[0m\u001b[0m\n",
      "\u001b[0;32m~/anaconda3/lib/python3.6/site-packages/pandas/io/formats/format.py\u001b[0m in \u001b[0;36m_to_str_columns\u001b[0;34m(self)\u001b[0m\n\u001b[1;32m    530\u001b[0m                 header_colwidth = max(self.col_space or 0,\n\u001b[1;32m    531\u001b[0m                                       *(self.adj.len(x) for x in cheader))\n\u001b[0;32m--> 532\u001b[0;31m                 \u001b[0mfmt_values\u001b[0m \u001b[0;34m=\u001b[0m \u001b[0mself\u001b[0m\u001b[0;34m.\u001b[0m\u001b[0m_format_col\u001b[0m\u001b[0;34m(\u001b[0m\u001b[0mi\u001b[0m\u001b[0;34m)\u001b[0m\u001b[0;34m\u001b[0m\u001b[0m\n\u001b[0m\u001b[1;32m    533\u001b[0m                 fmt_values = _make_fixed_width(fmt_values, self.justify,\n\u001b[1;32m    534\u001b[0m                                                \u001b[0mminimum\u001b[0m\u001b[0;34m=\u001b[0m\u001b[0mheader_colwidth\u001b[0m\u001b[0;34m,\u001b[0m\u001b[0;34m\u001b[0m\u001b[0m\n",
      "\u001b[0;32m~/anaconda3/lib/python3.6/site-packages/pandas/io/formats/format.py\u001b[0m in \u001b[0;36m_format_col\u001b[0;34m(self, i)\u001b[0m\n\u001b[1;32m    706\u001b[0m         return format_array(values_to_format, formatter,\n\u001b[1;32m    707\u001b[0m                             \u001b[0mfloat_format\u001b[0m\u001b[0;34m=\u001b[0m\u001b[0mself\u001b[0m\u001b[0;34m.\u001b[0m\u001b[0mfloat_format\u001b[0m\u001b[0;34m,\u001b[0m \u001b[0mna_rep\u001b[0m\u001b[0;34m=\u001b[0m\u001b[0mself\u001b[0m\u001b[0;34m.\u001b[0m\u001b[0mna_rep\u001b[0m\u001b[0;34m,\u001b[0m\u001b[0;34m\u001b[0m\u001b[0m\n\u001b[0;32m--> 708\u001b[0;31m                             space=self.col_space, decimal=self.decimal)\n\u001b[0m\u001b[1;32m    709\u001b[0m \u001b[0;34m\u001b[0m\u001b[0m\n\u001b[1;32m    710\u001b[0m     \u001b[0;32mdef\u001b[0m \u001b[0mto_html\u001b[0m\u001b[0;34m(\u001b[0m\u001b[0mself\u001b[0m\u001b[0;34m,\u001b[0m \u001b[0mclasses\u001b[0m\u001b[0;34m=\u001b[0m\u001b[0;32mNone\u001b[0m\u001b[0;34m,\u001b[0m \u001b[0mnotebook\u001b[0m\u001b[0;34m=\u001b[0m\u001b[0;32mFalse\u001b[0m\u001b[0;34m,\u001b[0m \u001b[0mborder\u001b[0m\u001b[0;34m=\u001b[0m\u001b[0;32mNone\u001b[0m\u001b[0;34m)\u001b[0m\u001b[0;34m:\u001b[0m\u001b[0;34m\u001b[0m\u001b[0m\n",
      "\u001b[0;32m~/anaconda3/lib/python3.6/site-packages/pandas/io/formats/format.py\u001b[0m in \u001b[0;36mformat_array\u001b[0;34m(values, formatter, float_format, na_rep, digits, space, justify, decimal)\u001b[0m\n\u001b[1;32m   1820\u001b[0m                         space=space, justify=justify, decimal=decimal)\n\u001b[1;32m   1821\u001b[0m \u001b[0;34m\u001b[0m\u001b[0m\n\u001b[0;32m-> 1822\u001b[0;31m     \u001b[0;32mreturn\u001b[0m \u001b[0mfmt_obj\u001b[0m\u001b[0;34m.\u001b[0m\u001b[0mget_result\u001b[0m\u001b[0;34m(\u001b[0m\u001b[0;34m)\u001b[0m\u001b[0;34m\u001b[0m\u001b[0m\n\u001b[0m\u001b[1;32m   1823\u001b[0m \u001b[0;34m\u001b[0m\u001b[0m\n\u001b[1;32m   1824\u001b[0m \u001b[0;34m\u001b[0m\u001b[0m\n",
      "\u001b[0;32m~/anaconda3/lib/python3.6/site-packages/pandas/io/formats/format.py\u001b[0m in \u001b[0;36mget_result\u001b[0;34m(self)\u001b[0m\n\u001b[1;32m   1840\u001b[0m \u001b[0;34m\u001b[0m\u001b[0m\n\u001b[1;32m   1841\u001b[0m     \u001b[0;32mdef\u001b[0m \u001b[0mget_result\u001b[0m\u001b[0;34m(\u001b[0m\u001b[0mself\u001b[0m\u001b[0;34m)\u001b[0m\u001b[0;34m:\u001b[0m\u001b[0;34m\u001b[0m\u001b[0m\n\u001b[0;32m-> 1842\u001b[0;31m         \u001b[0mfmt_values\u001b[0m \u001b[0;34m=\u001b[0m \u001b[0mself\u001b[0m\u001b[0;34m.\u001b[0m\u001b[0m_format_strings\u001b[0m\u001b[0;34m(\u001b[0m\u001b[0;34m)\u001b[0m\u001b[0;34m\u001b[0m\u001b[0m\n\u001b[0m\u001b[1;32m   1843\u001b[0m         \u001b[0;32mreturn\u001b[0m \u001b[0m_make_fixed_width\u001b[0m\u001b[0;34m(\u001b[0m\u001b[0mfmt_values\u001b[0m\u001b[0;34m,\u001b[0m \u001b[0mself\u001b[0m\u001b[0;34m.\u001b[0m\u001b[0mjustify\u001b[0m\u001b[0;34m)\u001b[0m\u001b[0;34m\u001b[0m\u001b[0m\n\u001b[1;32m   1844\u001b[0m \u001b[0;34m\u001b[0m\u001b[0m\n",
      "\u001b[0;32m~/anaconda3/lib/python3.6/site-packages/pandas/io/formats/format.py\u001b[0m in \u001b[0;36m_format_strings\u001b[0;34m(self)\u001b[0m\n\u001b[1;32m   1886\u001b[0m                 \u001b[0mfmt_values\u001b[0m\u001b[0;34m.\u001b[0m\u001b[0mappend\u001b[0m\u001b[0;34m(\u001b[0m\u001b[0mfloat_format\u001b[0m\u001b[0;34m(\u001b[0m\u001b[0mv\u001b[0m\u001b[0;34m)\u001b[0m\u001b[0;34m)\u001b[0m\u001b[0;34m\u001b[0m\u001b[0m\n\u001b[1;32m   1887\u001b[0m             \u001b[0;32melse\u001b[0m\u001b[0;34m:\u001b[0m\u001b[0;34m\u001b[0m\u001b[0m\n\u001b[0;32m-> 1888\u001b[0;31m                 \u001b[0mfmt_values\u001b[0m\u001b[0;34m.\u001b[0m\u001b[0mappend\u001b[0m\u001b[0;34m(\u001b[0m\u001b[0;34mu' {v}'\u001b[0m\u001b[0;34m.\u001b[0m\u001b[0mformat\u001b[0m\u001b[0;34m(\u001b[0m\u001b[0mv\u001b[0m\u001b[0;34m=\u001b[0m\u001b[0m_format\u001b[0m\u001b[0;34m(\u001b[0m\u001b[0mv\u001b[0m\u001b[0;34m)\u001b[0m\u001b[0;34m)\u001b[0m\u001b[0;34m)\u001b[0m\u001b[0;34m\u001b[0m\u001b[0m\n\u001b[0m\u001b[1;32m   1889\u001b[0m \u001b[0;34m\u001b[0m\u001b[0m\n\u001b[1;32m   1890\u001b[0m         \u001b[0;32mreturn\u001b[0m \u001b[0mfmt_values\u001b[0m\u001b[0;34m\u001b[0m\u001b[0m\n",
      "\u001b[0;32m~/anaconda3/lib/python3.6/site-packages/pandas/io/formats/format.py\u001b[0m in \u001b[0;36m_format\u001b[0;34m(x)\u001b[0m\n\u001b[1;32m   1868\u001b[0m             \u001b[0;32melse\u001b[0m\u001b[0;34m:\u001b[0m\u001b[0;34m\u001b[0m\u001b[0m\n\u001b[1;32m   1869\u001b[0m                 \u001b[0;31m# object dtype\u001b[0m\u001b[0;34m\u001b[0m\u001b[0;34m\u001b[0m\u001b[0m\n\u001b[0;32m-> 1870\u001b[0;31m                 \u001b[0;32mreturn\u001b[0m \u001b[0;34mu'{x}'\u001b[0m\u001b[0;34m.\u001b[0m\u001b[0mformat\u001b[0m\u001b[0;34m(\u001b[0m\u001b[0mx\u001b[0m\u001b[0;34m=\u001b[0m\u001b[0mformatter\u001b[0m\u001b[0;34m(\u001b[0m\u001b[0mx\u001b[0m\u001b[0;34m)\u001b[0m\u001b[0;34m)\u001b[0m\u001b[0;34m\u001b[0m\u001b[0m\n\u001b[0m\u001b[1;32m   1871\u001b[0m \u001b[0;34m\u001b[0m\u001b[0m\n\u001b[1;32m   1872\u001b[0m         \u001b[0mvals\u001b[0m \u001b[0;34m=\u001b[0m \u001b[0mself\u001b[0m\u001b[0;34m.\u001b[0m\u001b[0mvalues\u001b[0m\u001b[0;34m\u001b[0m\u001b[0m\n",
      "\u001b[0;32m~/anaconda3/lib/python3.6/site-packages/pandas/io/formats/format.py\u001b[0m in \u001b[0;36m<lambda>\u001b[0;34m(x)\u001b[0m\n\u001b[1;32m   1855\u001b[0m         formatter = (\n\u001b[1;32m   1856\u001b[0m             \u001b[0mself\u001b[0m\u001b[0;34m.\u001b[0m\u001b[0mformatter\u001b[0m \u001b[0;32mif\u001b[0m \u001b[0mself\u001b[0m\u001b[0;34m.\u001b[0m\u001b[0mformatter\u001b[0m \u001b[0;32mis\u001b[0m \u001b[0;32mnot\u001b[0m \u001b[0;32mNone\u001b[0m \u001b[0;32melse\u001b[0m\u001b[0;34m\u001b[0m\u001b[0m\n\u001b[0;32m-> 1857\u001b[0;31m             (lambda x: pprint_thing(x, escape_chars=('\\t', '\\r', '\\n'))))\n\u001b[0m\u001b[1;32m   1858\u001b[0m \u001b[0;34m\u001b[0m\u001b[0m\n\u001b[1;32m   1859\u001b[0m         \u001b[0;32mdef\u001b[0m \u001b[0m_format\u001b[0m\u001b[0;34m(\u001b[0m\u001b[0mx\u001b[0m\u001b[0;34m)\u001b[0m\u001b[0;34m:\u001b[0m\u001b[0;34m\u001b[0m\u001b[0m\n",
      "\u001b[0;32m~/anaconda3/lib/python3.6/site-packages/pandas/io/formats/printing.py\u001b[0m in \u001b[0;36mpprint_thing\u001b[0;34m(thing, _nest_lvl, escape_chars, default_escapes, quote_strings, max_seq_items)\u001b[0m\n\u001b[1;32m    215\u001b[0m           _nest_lvl < get_option(\"display.pprint_nest_depth\")):\n\u001b[1;32m    216\u001b[0m         result = _pprint_dict(thing, _nest_lvl, quote_strings=True,\n\u001b[0;32m--> 217\u001b[0;31m                               max_seq_items=max_seq_items)\n\u001b[0m\u001b[1;32m    218\u001b[0m     elif (is_sequence(thing) and\n\u001b[1;32m    219\u001b[0m           _nest_lvl < get_option(\"display.pprint_nest_depth\")):\n",
      "\u001b[0;32m~/anaconda3/lib/python3.6/site-packages/pandas/io/formats/printing.py\u001b[0m in \u001b[0;36m_pprint_dict\u001b[0;34m(seq, _nest_lvl, max_seq_items, **kwds)\u001b[0m\n\u001b[1;32m    148\u001b[0m                                  max_seq_items=max_seq_items, **kwds),\n\u001b[1;32m    149\u001b[0m                 val=pprint_thing(v, _nest_lvl + 1,\n\u001b[0;32m--> 150\u001b[0;31m                                  max_seq_items=max_seq_items, **kwds)))\n\u001b[0m\u001b[1;32m    151\u001b[0m \u001b[0;34m\u001b[0m\u001b[0m\n\u001b[1;32m    152\u001b[0m     \u001b[0;32mif\u001b[0m \u001b[0mnitems\u001b[0m \u001b[0;34m<\u001b[0m \u001b[0mlen\u001b[0m\u001b[0;34m(\u001b[0m\u001b[0mseq\u001b[0m\u001b[0;34m)\u001b[0m\u001b[0;34m:\u001b[0m\u001b[0;34m\u001b[0m\u001b[0m\n",
      "\u001b[0;32m~/anaconda3/lib/python3.6/site-packages/pandas/io/formats/printing.py\u001b[0m in \u001b[0;36mpprint_thing\u001b[0;34m(thing, _nest_lvl, escape_chars, default_escapes, quote_strings, max_seq_items)\u001b[0m\n\u001b[1;32m    220\u001b[0m         result = _pprint_seq(thing, _nest_lvl, escape_chars=escape_chars,\n\u001b[1;32m    221\u001b[0m                              \u001b[0mquote_strings\u001b[0m\u001b[0;34m=\u001b[0m\u001b[0mquote_strings\u001b[0m\u001b[0;34m,\u001b[0m\u001b[0;34m\u001b[0m\u001b[0m\n\u001b[0;32m--> 222\u001b[0;31m                              max_seq_items=max_seq_items)\n\u001b[0m\u001b[1;32m    223\u001b[0m     \u001b[0;32melif\u001b[0m \u001b[0misinstance\u001b[0m\u001b[0;34m(\u001b[0m\u001b[0mthing\u001b[0m\u001b[0;34m,\u001b[0m \u001b[0mcompat\u001b[0m\u001b[0;34m.\u001b[0m\u001b[0mstring_types\u001b[0m\u001b[0;34m)\u001b[0m \u001b[0;32mand\u001b[0m \u001b[0mquote_strings\u001b[0m\u001b[0;34m:\u001b[0m\u001b[0;34m\u001b[0m\u001b[0m\n\u001b[1;32m    224\u001b[0m         \u001b[0;32mif\u001b[0m \u001b[0mcompat\u001b[0m\u001b[0;34m.\u001b[0m\u001b[0mPY3\u001b[0m\u001b[0;34m:\u001b[0m\u001b[0;34m\u001b[0m\u001b[0m\n",
      "\u001b[0;32m~/anaconda3/lib/python3.6/site-packages/pandas/io/formats/printing.py\u001b[0m in \u001b[0;36m_pprint_seq\u001b[0;34m(seq, _nest_lvl, max_seq_items, **kwds)\u001b[0m\n\u001b[1;32m    116\u001b[0m     \u001b[0;32mfor\u001b[0m \u001b[0mi\u001b[0m \u001b[0;32min\u001b[0m \u001b[0mrange\u001b[0m\u001b[0;34m(\u001b[0m\u001b[0mmin\u001b[0m\u001b[0;34m(\u001b[0m\u001b[0mnitems\u001b[0m\u001b[0;34m,\u001b[0m \u001b[0mlen\u001b[0m\u001b[0;34m(\u001b[0m\u001b[0mseq\u001b[0m\u001b[0;34m)\u001b[0m\u001b[0;34m)\u001b[0m\u001b[0;34m)\u001b[0m\u001b[0;34m:\u001b[0m  \u001b[0;31m# handle sets, no slicing\u001b[0m\u001b[0;34m\u001b[0m\u001b[0m\n\u001b[1;32m    117\u001b[0m         r.append(pprint_thing(\n\u001b[0;32m--> 118\u001b[0;31m             next(s), _nest_lvl + 1, max_seq_items=max_seq_items, **kwds))\n\u001b[0m\u001b[1;32m    119\u001b[0m     \u001b[0mbody\u001b[0m \u001b[0;34m=\u001b[0m \u001b[0;34m\", \"\u001b[0m\u001b[0;34m.\u001b[0m\u001b[0mjoin\u001b[0m\u001b[0;34m(\u001b[0m\u001b[0mr\u001b[0m\u001b[0;34m)\u001b[0m\u001b[0;34m\u001b[0m\u001b[0m\n\u001b[1;32m    120\u001b[0m \u001b[0;34m\u001b[0m\u001b[0m\n",
      "\u001b[0;31mStopIteration\u001b[0m: "
     ]
    },
    {
     "ename": "StopIteration",
     "evalue": "",
     "output_type": "error",
     "traceback": [
      "\u001b[0;31m---------------------------------------------------------------------------\u001b[0m",
      "\u001b[0;31mStopIteration\u001b[0m                             Traceback (most recent call last)",
      "\u001b[0;32m~/anaconda3/lib/python3.6/site-packages/IPython/core/formatters.py\u001b[0m in \u001b[0;36m__call__\u001b[0;34m(self, obj)\u001b[0m\n\u001b[1;32m    343\u001b[0m             \u001b[0mmethod\u001b[0m \u001b[0;34m=\u001b[0m \u001b[0mget_real_method\u001b[0m\u001b[0;34m(\u001b[0m\u001b[0mobj\u001b[0m\u001b[0;34m,\u001b[0m \u001b[0mself\u001b[0m\u001b[0;34m.\u001b[0m\u001b[0mprint_method\u001b[0m\u001b[0;34m)\u001b[0m\u001b[0;34m\u001b[0m\u001b[0m\n\u001b[1;32m    344\u001b[0m             \u001b[0;32mif\u001b[0m \u001b[0mmethod\u001b[0m \u001b[0;32mis\u001b[0m \u001b[0;32mnot\u001b[0m \u001b[0;32mNone\u001b[0m\u001b[0;34m:\u001b[0m\u001b[0;34m\u001b[0m\u001b[0m\n\u001b[0;32m--> 345\u001b[0;31m                 \u001b[0;32mreturn\u001b[0m \u001b[0mmethod\u001b[0m\u001b[0;34m(\u001b[0m\u001b[0;34m)\u001b[0m\u001b[0;34m\u001b[0m\u001b[0m\n\u001b[0m\u001b[1;32m    346\u001b[0m             \u001b[0;32mreturn\u001b[0m \u001b[0;32mNone\u001b[0m\u001b[0;34m\u001b[0m\u001b[0m\n\u001b[1;32m    347\u001b[0m         \u001b[0;32melse\u001b[0m\u001b[0;34m:\u001b[0m\u001b[0;34m\u001b[0m\u001b[0m\n",
      "\u001b[0;32m~/anaconda3/lib/python3.6/site-packages/pandas/core/frame.py\u001b[0m in \u001b[0;36m_repr_html_\u001b[0;34m(self)\u001b[0m\n\u001b[1;32m    667\u001b[0m \u001b[0;34m\u001b[0m\u001b[0m\n\u001b[1;32m    668\u001b[0m             return self.to_html(max_rows=max_rows, max_cols=max_cols,\n\u001b[0;32m--> 669\u001b[0;31m                                 show_dimensions=show_dimensions, notebook=True)\n\u001b[0m\u001b[1;32m    670\u001b[0m         \u001b[0;32melse\u001b[0m\u001b[0;34m:\u001b[0m\u001b[0;34m\u001b[0m\u001b[0m\n\u001b[1;32m    671\u001b[0m             \u001b[0;32mreturn\u001b[0m \u001b[0;32mNone\u001b[0m\u001b[0;34m\u001b[0m\u001b[0m\n",
      "\u001b[0;32m~/anaconda3/lib/python3.6/site-packages/pandas/core/frame.py\u001b[0m in \u001b[0;36mto_html\u001b[0;34m(self, buf, columns, col_space, header, index, na_rep, formatters, float_format, sparsify, index_names, justify, bold_rows, classes, escape, max_rows, max_cols, show_dimensions, notebook, decimal, border)\u001b[0m\n\u001b[1;32m   1732\u001b[0m                                            decimal=decimal)\n\u001b[1;32m   1733\u001b[0m         \u001b[0;31m# TODO: a generic formatter wld b in DataFrameFormatter\u001b[0m\u001b[0;34m\u001b[0m\u001b[0;34m\u001b[0m\u001b[0m\n\u001b[0;32m-> 1734\u001b[0;31m         \u001b[0mformatter\u001b[0m\u001b[0;34m.\u001b[0m\u001b[0mto_html\u001b[0m\u001b[0;34m(\u001b[0m\u001b[0mclasses\u001b[0m\u001b[0;34m=\u001b[0m\u001b[0mclasses\u001b[0m\u001b[0;34m,\u001b[0m \u001b[0mnotebook\u001b[0m\u001b[0;34m=\u001b[0m\u001b[0mnotebook\u001b[0m\u001b[0;34m,\u001b[0m \u001b[0mborder\u001b[0m\u001b[0;34m=\u001b[0m\u001b[0mborder\u001b[0m\u001b[0;34m)\u001b[0m\u001b[0;34m\u001b[0m\u001b[0m\n\u001b[0m\u001b[1;32m   1735\u001b[0m \u001b[0;34m\u001b[0m\u001b[0m\n\u001b[1;32m   1736\u001b[0m         \u001b[0;32mif\u001b[0m \u001b[0mbuf\u001b[0m \u001b[0;32mis\u001b[0m \u001b[0;32mNone\u001b[0m\u001b[0;34m:\u001b[0m\u001b[0;34m\u001b[0m\u001b[0m\n",
      "\u001b[0;32m~/anaconda3/lib/python3.6/site-packages/pandas/io/formats/format.py\u001b[0m in \u001b[0;36mto_html\u001b[0;34m(self, classes, notebook, border)\u001b[0m\n\u001b[1;32m    731\u001b[0m                                       border=border)\n\u001b[1;32m    732\u001b[0m         \u001b[0;32mif\u001b[0m \u001b[0mhasattr\u001b[0m\u001b[0;34m(\u001b[0m\u001b[0mself\u001b[0m\u001b[0;34m.\u001b[0m\u001b[0mbuf\u001b[0m\u001b[0;34m,\u001b[0m \u001b[0;34m'write'\u001b[0m\u001b[0;34m)\u001b[0m\u001b[0;34m:\u001b[0m\u001b[0;34m\u001b[0m\u001b[0m\n\u001b[0;32m--> 733\u001b[0;31m             \u001b[0mhtml_renderer\u001b[0m\u001b[0;34m.\u001b[0m\u001b[0mwrite_result\u001b[0m\u001b[0;34m(\u001b[0m\u001b[0mself\u001b[0m\u001b[0;34m.\u001b[0m\u001b[0mbuf\u001b[0m\u001b[0;34m)\u001b[0m\u001b[0;34m\u001b[0m\u001b[0m\n\u001b[0m\u001b[1;32m    734\u001b[0m         \u001b[0;32melif\u001b[0m \u001b[0misinstance\u001b[0m\u001b[0;34m(\u001b[0m\u001b[0mself\u001b[0m\u001b[0;34m.\u001b[0m\u001b[0mbuf\u001b[0m\u001b[0;34m,\u001b[0m \u001b[0mcompat\u001b[0m\u001b[0;34m.\u001b[0m\u001b[0mstring_types\u001b[0m\u001b[0;34m)\u001b[0m\u001b[0;34m:\u001b[0m\u001b[0;34m\u001b[0m\u001b[0m\n\u001b[1;32m    735\u001b[0m             \u001b[0;32mwith\u001b[0m \u001b[0mopen\u001b[0m\u001b[0;34m(\u001b[0m\u001b[0mself\u001b[0m\u001b[0;34m.\u001b[0m\u001b[0mbuf\u001b[0m\u001b[0;34m,\u001b[0m \u001b[0;34m'w'\u001b[0m\u001b[0;34m)\u001b[0m \u001b[0;32mas\u001b[0m \u001b[0mf\u001b[0m\u001b[0;34m:\u001b[0m\u001b[0;34m\u001b[0m\u001b[0m\n",
      "\u001b[0;32m~/anaconda3/lib/python3.6/site-packages/pandas/io/formats/format.py\u001b[0m in \u001b[0;36mwrite_result\u001b[0;34m(self, buf)\u001b[0m\n\u001b[1;32m   1214\u001b[0m         \u001b[0mindent\u001b[0m \u001b[0;34m+=\u001b[0m \u001b[0mself\u001b[0m\u001b[0;34m.\u001b[0m\u001b[0mindent_delta\u001b[0m\u001b[0;34m\u001b[0m\u001b[0m\n\u001b[1;32m   1215\u001b[0m         \u001b[0mindent\u001b[0m \u001b[0;34m=\u001b[0m \u001b[0mself\u001b[0m\u001b[0;34m.\u001b[0m\u001b[0m_write_header\u001b[0m\u001b[0;34m(\u001b[0m\u001b[0mindent\u001b[0m\u001b[0;34m)\u001b[0m\u001b[0;34m\u001b[0m\u001b[0m\n\u001b[0;32m-> 1216\u001b[0;31m         \u001b[0mindent\u001b[0m \u001b[0;34m=\u001b[0m \u001b[0mself\u001b[0m\u001b[0;34m.\u001b[0m\u001b[0m_write_body\u001b[0m\u001b[0;34m(\u001b[0m\u001b[0mindent\u001b[0m\u001b[0;34m)\u001b[0m\u001b[0;34m\u001b[0m\u001b[0m\n\u001b[0m\u001b[1;32m   1217\u001b[0m \u001b[0;34m\u001b[0m\u001b[0m\n\u001b[1;32m   1218\u001b[0m         \u001b[0mself\u001b[0m\u001b[0;34m.\u001b[0m\u001b[0mwrite\u001b[0m\u001b[0;34m(\u001b[0m\u001b[0;34m'</table>'\u001b[0m\u001b[0;34m,\u001b[0m \u001b[0mindent\u001b[0m\u001b[0;34m)\u001b[0m\u001b[0;34m\u001b[0m\u001b[0m\n",
      "\u001b[0;32m~/anaconda3/lib/python3.6/site-packages/pandas/io/formats/format.py\u001b[0m in \u001b[0;36m_write_body\u001b[0;34m(self, indent)\u001b[0m\n\u001b[1;32m   1370\u001b[0m         \u001b[0mfmt_values\u001b[0m \u001b[0;34m=\u001b[0m \u001b[0;34m{\u001b[0m\u001b[0;34m}\u001b[0m\u001b[0;34m\u001b[0m\u001b[0m\n\u001b[1;32m   1371\u001b[0m         \u001b[0;32mfor\u001b[0m \u001b[0mi\u001b[0m \u001b[0;32min\u001b[0m \u001b[0mrange\u001b[0m\u001b[0;34m(\u001b[0m\u001b[0mmin\u001b[0m\u001b[0;34m(\u001b[0m\u001b[0mlen\u001b[0m\u001b[0;34m(\u001b[0m\u001b[0mself\u001b[0m\u001b[0;34m.\u001b[0m\u001b[0mcolumns\u001b[0m\u001b[0;34m)\u001b[0m\u001b[0;34m,\u001b[0m \u001b[0mself\u001b[0m\u001b[0;34m.\u001b[0m\u001b[0mmax_cols\u001b[0m\u001b[0;34m)\u001b[0m\u001b[0;34m)\u001b[0m\u001b[0;34m:\u001b[0m\u001b[0;34m\u001b[0m\u001b[0m\n\u001b[0;32m-> 1372\u001b[0;31m             \u001b[0mfmt_values\u001b[0m\u001b[0;34m[\u001b[0m\u001b[0mi\u001b[0m\u001b[0;34m]\u001b[0m \u001b[0;34m=\u001b[0m \u001b[0mself\u001b[0m\u001b[0;34m.\u001b[0m\u001b[0mfmt\u001b[0m\u001b[0;34m.\u001b[0m\u001b[0m_format_col\u001b[0m\u001b[0;34m(\u001b[0m\u001b[0mi\u001b[0m\u001b[0;34m)\u001b[0m\u001b[0;34m\u001b[0m\u001b[0m\n\u001b[0m\u001b[1;32m   1373\u001b[0m \u001b[0;34m\u001b[0m\u001b[0m\n\u001b[1;32m   1374\u001b[0m         \u001b[0;31m# write values\u001b[0m\u001b[0;34m\u001b[0m\u001b[0;34m\u001b[0m\u001b[0m\n",
      "\u001b[0;32m~/anaconda3/lib/python3.6/site-packages/pandas/io/formats/format.py\u001b[0m in \u001b[0;36m_format_col\u001b[0;34m(self, i)\u001b[0m\n\u001b[1;32m    706\u001b[0m         return format_array(values_to_format, formatter,\n\u001b[1;32m    707\u001b[0m                             \u001b[0mfloat_format\u001b[0m\u001b[0;34m=\u001b[0m\u001b[0mself\u001b[0m\u001b[0;34m.\u001b[0m\u001b[0mfloat_format\u001b[0m\u001b[0;34m,\u001b[0m \u001b[0mna_rep\u001b[0m\u001b[0;34m=\u001b[0m\u001b[0mself\u001b[0m\u001b[0;34m.\u001b[0m\u001b[0mna_rep\u001b[0m\u001b[0;34m,\u001b[0m\u001b[0;34m\u001b[0m\u001b[0m\n\u001b[0;32m--> 708\u001b[0;31m                             space=self.col_space, decimal=self.decimal)\n\u001b[0m\u001b[1;32m    709\u001b[0m \u001b[0;34m\u001b[0m\u001b[0m\n\u001b[1;32m    710\u001b[0m     \u001b[0;32mdef\u001b[0m \u001b[0mto_html\u001b[0m\u001b[0;34m(\u001b[0m\u001b[0mself\u001b[0m\u001b[0;34m,\u001b[0m \u001b[0mclasses\u001b[0m\u001b[0;34m=\u001b[0m\u001b[0;32mNone\u001b[0m\u001b[0;34m,\u001b[0m \u001b[0mnotebook\u001b[0m\u001b[0;34m=\u001b[0m\u001b[0;32mFalse\u001b[0m\u001b[0;34m,\u001b[0m \u001b[0mborder\u001b[0m\u001b[0;34m=\u001b[0m\u001b[0;32mNone\u001b[0m\u001b[0;34m)\u001b[0m\u001b[0;34m:\u001b[0m\u001b[0;34m\u001b[0m\u001b[0m\n",
      "\u001b[0;32m~/anaconda3/lib/python3.6/site-packages/pandas/io/formats/format.py\u001b[0m in \u001b[0;36mformat_array\u001b[0;34m(values, formatter, float_format, na_rep, digits, space, justify, decimal)\u001b[0m\n\u001b[1;32m   1820\u001b[0m                         space=space, justify=justify, decimal=decimal)\n\u001b[1;32m   1821\u001b[0m \u001b[0;34m\u001b[0m\u001b[0m\n\u001b[0;32m-> 1822\u001b[0;31m     \u001b[0;32mreturn\u001b[0m \u001b[0mfmt_obj\u001b[0m\u001b[0;34m.\u001b[0m\u001b[0mget_result\u001b[0m\u001b[0;34m(\u001b[0m\u001b[0;34m)\u001b[0m\u001b[0;34m\u001b[0m\u001b[0m\n\u001b[0m\u001b[1;32m   1823\u001b[0m \u001b[0;34m\u001b[0m\u001b[0m\n\u001b[1;32m   1824\u001b[0m \u001b[0;34m\u001b[0m\u001b[0m\n",
      "\u001b[0;32m~/anaconda3/lib/python3.6/site-packages/pandas/io/formats/format.py\u001b[0m in \u001b[0;36mget_result\u001b[0;34m(self)\u001b[0m\n\u001b[1;32m   1840\u001b[0m \u001b[0;34m\u001b[0m\u001b[0m\n\u001b[1;32m   1841\u001b[0m     \u001b[0;32mdef\u001b[0m \u001b[0mget_result\u001b[0m\u001b[0;34m(\u001b[0m\u001b[0mself\u001b[0m\u001b[0;34m)\u001b[0m\u001b[0;34m:\u001b[0m\u001b[0;34m\u001b[0m\u001b[0m\n\u001b[0;32m-> 1842\u001b[0;31m         \u001b[0mfmt_values\u001b[0m \u001b[0;34m=\u001b[0m \u001b[0mself\u001b[0m\u001b[0;34m.\u001b[0m\u001b[0m_format_strings\u001b[0m\u001b[0;34m(\u001b[0m\u001b[0;34m)\u001b[0m\u001b[0;34m\u001b[0m\u001b[0m\n\u001b[0m\u001b[1;32m   1843\u001b[0m         \u001b[0;32mreturn\u001b[0m \u001b[0m_make_fixed_width\u001b[0m\u001b[0;34m(\u001b[0m\u001b[0mfmt_values\u001b[0m\u001b[0;34m,\u001b[0m \u001b[0mself\u001b[0m\u001b[0;34m.\u001b[0m\u001b[0mjustify\u001b[0m\u001b[0;34m)\u001b[0m\u001b[0;34m\u001b[0m\u001b[0m\n\u001b[1;32m   1844\u001b[0m \u001b[0;34m\u001b[0m\u001b[0m\n",
      "\u001b[0;32m~/anaconda3/lib/python3.6/site-packages/pandas/io/formats/format.py\u001b[0m in \u001b[0;36m_format_strings\u001b[0;34m(self)\u001b[0m\n\u001b[1;32m   1886\u001b[0m                 \u001b[0mfmt_values\u001b[0m\u001b[0;34m.\u001b[0m\u001b[0mappend\u001b[0m\u001b[0;34m(\u001b[0m\u001b[0mfloat_format\u001b[0m\u001b[0;34m(\u001b[0m\u001b[0mv\u001b[0m\u001b[0;34m)\u001b[0m\u001b[0;34m)\u001b[0m\u001b[0;34m\u001b[0m\u001b[0m\n\u001b[1;32m   1887\u001b[0m             \u001b[0;32melse\u001b[0m\u001b[0;34m:\u001b[0m\u001b[0;34m\u001b[0m\u001b[0m\n\u001b[0;32m-> 1888\u001b[0;31m                 \u001b[0mfmt_values\u001b[0m\u001b[0;34m.\u001b[0m\u001b[0mappend\u001b[0m\u001b[0;34m(\u001b[0m\u001b[0;34mu' {v}'\u001b[0m\u001b[0;34m.\u001b[0m\u001b[0mformat\u001b[0m\u001b[0;34m(\u001b[0m\u001b[0mv\u001b[0m\u001b[0;34m=\u001b[0m\u001b[0m_format\u001b[0m\u001b[0;34m(\u001b[0m\u001b[0mv\u001b[0m\u001b[0;34m)\u001b[0m\u001b[0;34m)\u001b[0m\u001b[0;34m)\u001b[0m\u001b[0;34m\u001b[0m\u001b[0m\n\u001b[0m\u001b[1;32m   1889\u001b[0m \u001b[0;34m\u001b[0m\u001b[0m\n\u001b[1;32m   1890\u001b[0m         \u001b[0;32mreturn\u001b[0m \u001b[0mfmt_values\u001b[0m\u001b[0;34m\u001b[0m\u001b[0m\n",
      "\u001b[0;32m~/anaconda3/lib/python3.6/site-packages/pandas/io/formats/format.py\u001b[0m in \u001b[0;36m_format\u001b[0;34m(x)\u001b[0m\n\u001b[1;32m   1868\u001b[0m             \u001b[0;32melse\u001b[0m\u001b[0;34m:\u001b[0m\u001b[0;34m\u001b[0m\u001b[0m\n\u001b[1;32m   1869\u001b[0m                 \u001b[0;31m# object dtype\u001b[0m\u001b[0;34m\u001b[0m\u001b[0;34m\u001b[0m\u001b[0m\n\u001b[0;32m-> 1870\u001b[0;31m                 \u001b[0;32mreturn\u001b[0m \u001b[0;34mu'{x}'\u001b[0m\u001b[0;34m.\u001b[0m\u001b[0mformat\u001b[0m\u001b[0;34m(\u001b[0m\u001b[0mx\u001b[0m\u001b[0;34m=\u001b[0m\u001b[0mformatter\u001b[0m\u001b[0;34m(\u001b[0m\u001b[0mx\u001b[0m\u001b[0;34m)\u001b[0m\u001b[0;34m)\u001b[0m\u001b[0;34m\u001b[0m\u001b[0m\n\u001b[0m\u001b[1;32m   1871\u001b[0m \u001b[0;34m\u001b[0m\u001b[0m\n\u001b[1;32m   1872\u001b[0m         \u001b[0mvals\u001b[0m \u001b[0;34m=\u001b[0m \u001b[0mself\u001b[0m\u001b[0;34m.\u001b[0m\u001b[0mvalues\u001b[0m\u001b[0;34m\u001b[0m\u001b[0m\n",
      "\u001b[0;32m~/anaconda3/lib/python3.6/site-packages/pandas/io/formats/format.py\u001b[0m in \u001b[0;36m<lambda>\u001b[0;34m(x)\u001b[0m\n\u001b[1;32m   1855\u001b[0m         formatter = (\n\u001b[1;32m   1856\u001b[0m             \u001b[0mself\u001b[0m\u001b[0;34m.\u001b[0m\u001b[0mformatter\u001b[0m \u001b[0;32mif\u001b[0m \u001b[0mself\u001b[0m\u001b[0;34m.\u001b[0m\u001b[0mformatter\u001b[0m \u001b[0;32mis\u001b[0m \u001b[0;32mnot\u001b[0m \u001b[0;32mNone\u001b[0m \u001b[0;32melse\u001b[0m\u001b[0;34m\u001b[0m\u001b[0m\n\u001b[0;32m-> 1857\u001b[0;31m             (lambda x: pprint_thing(x, escape_chars=('\\t', '\\r', '\\n'))))\n\u001b[0m\u001b[1;32m   1858\u001b[0m \u001b[0;34m\u001b[0m\u001b[0m\n\u001b[1;32m   1859\u001b[0m         \u001b[0;32mdef\u001b[0m \u001b[0m_format\u001b[0m\u001b[0;34m(\u001b[0m\u001b[0mx\u001b[0m\u001b[0;34m)\u001b[0m\u001b[0;34m:\u001b[0m\u001b[0;34m\u001b[0m\u001b[0m\n",
      "\u001b[0;32m~/anaconda3/lib/python3.6/site-packages/pandas/io/formats/printing.py\u001b[0m in \u001b[0;36mpprint_thing\u001b[0;34m(thing, _nest_lvl, escape_chars, default_escapes, quote_strings, max_seq_items)\u001b[0m\n\u001b[1;32m    215\u001b[0m           _nest_lvl < get_option(\"display.pprint_nest_depth\")):\n\u001b[1;32m    216\u001b[0m         result = _pprint_dict(thing, _nest_lvl, quote_strings=True,\n\u001b[0;32m--> 217\u001b[0;31m                               max_seq_items=max_seq_items)\n\u001b[0m\u001b[1;32m    218\u001b[0m     elif (is_sequence(thing) and\n\u001b[1;32m    219\u001b[0m           _nest_lvl < get_option(\"display.pprint_nest_depth\")):\n",
      "\u001b[0;32m~/anaconda3/lib/python3.6/site-packages/pandas/io/formats/printing.py\u001b[0m in \u001b[0;36m_pprint_dict\u001b[0;34m(seq, _nest_lvl, max_seq_items, **kwds)\u001b[0m\n\u001b[1;32m    148\u001b[0m                                  max_seq_items=max_seq_items, **kwds),\n\u001b[1;32m    149\u001b[0m                 val=pprint_thing(v, _nest_lvl + 1,\n\u001b[0;32m--> 150\u001b[0;31m                                  max_seq_items=max_seq_items, **kwds)))\n\u001b[0m\u001b[1;32m    151\u001b[0m \u001b[0;34m\u001b[0m\u001b[0m\n\u001b[1;32m    152\u001b[0m     \u001b[0;32mif\u001b[0m \u001b[0mnitems\u001b[0m \u001b[0;34m<\u001b[0m \u001b[0mlen\u001b[0m\u001b[0;34m(\u001b[0m\u001b[0mseq\u001b[0m\u001b[0;34m)\u001b[0m\u001b[0;34m:\u001b[0m\u001b[0;34m\u001b[0m\u001b[0m\n",
      "\u001b[0;32m~/anaconda3/lib/python3.6/site-packages/pandas/io/formats/printing.py\u001b[0m in \u001b[0;36mpprint_thing\u001b[0;34m(thing, _nest_lvl, escape_chars, default_escapes, quote_strings, max_seq_items)\u001b[0m\n\u001b[1;32m    220\u001b[0m         result = _pprint_seq(thing, _nest_lvl, escape_chars=escape_chars,\n\u001b[1;32m    221\u001b[0m                              \u001b[0mquote_strings\u001b[0m\u001b[0;34m=\u001b[0m\u001b[0mquote_strings\u001b[0m\u001b[0;34m,\u001b[0m\u001b[0;34m\u001b[0m\u001b[0m\n\u001b[0;32m--> 222\u001b[0;31m                              max_seq_items=max_seq_items)\n\u001b[0m\u001b[1;32m    223\u001b[0m     \u001b[0;32melif\u001b[0m \u001b[0misinstance\u001b[0m\u001b[0;34m(\u001b[0m\u001b[0mthing\u001b[0m\u001b[0;34m,\u001b[0m \u001b[0mcompat\u001b[0m\u001b[0;34m.\u001b[0m\u001b[0mstring_types\u001b[0m\u001b[0;34m)\u001b[0m \u001b[0;32mand\u001b[0m \u001b[0mquote_strings\u001b[0m\u001b[0;34m:\u001b[0m\u001b[0;34m\u001b[0m\u001b[0m\n\u001b[1;32m    224\u001b[0m         \u001b[0;32mif\u001b[0m \u001b[0mcompat\u001b[0m\u001b[0;34m.\u001b[0m\u001b[0mPY3\u001b[0m\u001b[0;34m:\u001b[0m\u001b[0;34m\u001b[0m\u001b[0m\n",
      "\u001b[0;32m~/anaconda3/lib/python3.6/site-packages/pandas/io/formats/printing.py\u001b[0m in \u001b[0;36m_pprint_seq\u001b[0;34m(seq, _nest_lvl, max_seq_items, **kwds)\u001b[0m\n\u001b[1;32m    116\u001b[0m     \u001b[0;32mfor\u001b[0m \u001b[0mi\u001b[0m \u001b[0;32min\u001b[0m \u001b[0mrange\u001b[0m\u001b[0;34m(\u001b[0m\u001b[0mmin\u001b[0m\u001b[0;34m(\u001b[0m\u001b[0mnitems\u001b[0m\u001b[0;34m,\u001b[0m \u001b[0mlen\u001b[0m\u001b[0;34m(\u001b[0m\u001b[0mseq\u001b[0m\u001b[0;34m)\u001b[0m\u001b[0;34m)\u001b[0m\u001b[0;34m)\u001b[0m\u001b[0;34m:\u001b[0m  \u001b[0;31m# handle sets, no slicing\u001b[0m\u001b[0;34m\u001b[0m\u001b[0m\n\u001b[1;32m    117\u001b[0m         r.append(pprint_thing(\n\u001b[0;32m--> 118\u001b[0;31m             next(s), _nest_lvl + 1, max_seq_items=max_seq_items, **kwds))\n\u001b[0m\u001b[1;32m    119\u001b[0m     \u001b[0mbody\u001b[0m \u001b[0;34m=\u001b[0m \u001b[0;34m\", \"\u001b[0m\u001b[0;34m.\u001b[0m\u001b[0mjoin\u001b[0m\u001b[0;34m(\u001b[0m\u001b[0mr\u001b[0m\u001b[0;34m)\u001b[0m\u001b[0;34m\u001b[0m\u001b[0m\n\u001b[1;32m    120\u001b[0m \u001b[0;34m\u001b[0m\u001b[0m\n",
      "\u001b[0;31mStopIteration\u001b[0m: "
     ]
    }
   ],
   "source": [
    "all_company_df = filter_companies(accumulator,filters=[get_pe_filter()])\n",
    "all_company_df"
   ]
  },
  {
   "cell_type": "code",
   "execution_count": null,
   "metadata": {
    "collapsed": true
   },
   "outputs": [],
   "source": []
  }
 ],
 "metadata": {
  "kernelspec": {
   "display_name": "Python 3",
   "language": "python",
   "name": "python3"
  },
  "language_info": {
   "codemirror_mode": {
    "name": "ipython",
    "version": 3
   },
   "file_extension": ".py",
   "mimetype": "text/x-python",
   "name": "python",
   "nbconvert_exporter": "python",
   "pygments_lexer": "ipython3",
   "version": "3.6.5"
  },
  "toc": {
   "base_numbering": 1,
   "nav_menu": {},
   "number_sections": true,
   "sideBar": true,
   "skip_h1_title": false,
   "title_cell": "Table of Contents",
   "title_sidebar": "Contents",
   "toc_cell": false,
   "toc_position": {},
   "toc_section_display": "block",
   "toc_window_display": false
  }
 },
 "nbformat": 4,
 "nbformat_minor": 2
}
